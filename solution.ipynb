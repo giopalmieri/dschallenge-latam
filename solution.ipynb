{
 "cells": [
  {
   "cell_type": "code",
   "execution_count": 1,
   "id": "af2880e8",
   "metadata": {
    "_cell_guid": "b1076dfc-b9ad-4769-8c92-a6c4dae69d19",
    "_uuid": "8f2839f25d086af736a60e9eeb907d3b93b6e0e5",
    "execution": {
     "iopub.execute_input": "2022-12-14T01:50:05.266222Z",
     "iopub.status.busy": "2022-12-14T01:50:05.264996Z",
     "iopub.status.idle": "2022-12-14T01:50:05.684299Z",
     "shell.execute_reply": "2022-12-14T01:50:05.682712Z"
    },
    "papermill": {
     "duration": 0.429165,
     "end_time": "2022-12-14T01:50:05.688373",
     "exception": false,
     "start_time": "2022-12-14T01:50:05.259208",
     "status": "completed"
    },
    "tags": []
   },
   "outputs": [
    {
     "name": "stderr",
     "output_type": "stream",
     "text": [
      "/opt/conda/lib/python3.7/site-packages/IPython/core/interactiveshell.py:3552: DtypeWarning: Columns (1,6) have mixed types.Specify dtype option on import or set low_memory=False.\n",
      "  exec(code_obj, self.user_global_ns, self.user_ns)\n"
     ]
    },
    {
     "data": {
      "text/html": [
       "<div>\n",
       "<style scoped>\n",
       "    .dataframe tbody tr th:only-of-type {\n",
       "        vertical-align: middle;\n",
       "    }\n",
       "\n",
       "    .dataframe tbody tr th {\n",
       "        vertical-align: top;\n",
       "    }\n",
       "\n",
       "    .dataframe thead th {\n",
       "        text-align: right;\n",
       "    }\n",
       "</style>\n",
       "<table border=\"1\" class=\"dataframe\">\n",
       "  <thead>\n",
       "    <tr style=\"text-align: right;\">\n",
       "      <th></th>\n",
       "      <th>Fecha-I</th>\n",
       "      <th>Vlo-I</th>\n",
       "      <th>Ori-I</th>\n",
       "      <th>Des-I</th>\n",
       "      <th>Emp-I</th>\n",
       "      <th>Fecha-O</th>\n",
       "      <th>Vlo-O</th>\n",
       "      <th>Ori-O</th>\n",
       "      <th>Des-O</th>\n",
       "      <th>Emp-O</th>\n",
       "      <th>DIA</th>\n",
       "      <th>MES</th>\n",
       "      <th>AÑO</th>\n",
       "      <th>DIANOM</th>\n",
       "      <th>TIPOVUELO</th>\n",
       "      <th>OPERA</th>\n",
       "      <th>SIGLAORI</th>\n",
       "      <th>SIGLADES</th>\n",
       "    </tr>\n",
       "  </thead>\n",
       "  <tbody>\n",
       "    <tr>\n",
       "      <th>0</th>\n",
       "      <td>2017-01-01 23:30:00</td>\n",
       "      <td>226</td>\n",
       "      <td>SCEL</td>\n",
       "      <td>KMIA</td>\n",
       "      <td>AAL</td>\n",
       "      <td>2017-01-01 23:33:00</td>\n",
       "      <td>226</td>\n",
       "      <td>SCEL</td>\n",
       "      <td>KMIA</td>\n",
       "      <td>AAL</td>\n",
       "      <td>1</td>\n",
       "      <td>1</td>\n",
       "      <td>2017</td>\n",
       "      <td>Domingo</td>\n",
       "      <td>I</td>\n",
       "      <td>American Airlines</td>\n",
       "      <td>Santiago</td>\n",
       "      <td>Miami</td>\n",
       "    </tr>\n",
       "    <tr>\n",
       "      <th>1</th>\n",
       "      <td>2017-01-02 23:30:00</td>\n",
       "      <td>226</td>\n",
       "      <td>SCEL</td>\n",
       "      <td>KMIA</td>\n",
       "      <td>AAL</td>\n",
       "      <td>2017-01-02 23:39:00</td>\n",
       "      <td>226</td>\n",
       "      <td>SCEL</td>\n",
       "      <td>KMIA</td>\n",
       "      <td>AAL</td>\n",
       "      <td>2</td>\n",
       "      <td>1</td>\n",
       "      <td>2017</td>\n",
       "      <td>Lunes</td>\n",
       "      <td>I</td>\n",
       "      <td>American Airlines</td>\n",
       "      <td>Santiago</td>\n",
       "      <td>Miami</td>\n",
       "    </tr>\n",
       "    <tr>\n",
       "      <th>2</th>\n",
       "      <td>2017-01-03 23:30:00</td>\n",
       "      <td>226</td>\n",
       "      <td>SCEL</td>\n",
       "      <td>KMIA</td>\n",
       "      <td>AAL</td>\n",
       "      <td>2017-01-03 23:39:00</td>\n",
       "      <td>226</td>\n",
       "      <td>SCEL</td>\n",
       "      <td>KMIA</td>\n",
       "      <td>AAL</td>\n",
       "      <td>3</td>\n",
       "      <td>1</td>\n",
       "      <td>2017</td>\n",
       "      <td>Martes</td>\n",
       "      <td>I</td>\n",
       "      <td>American Airlines</td>\n",
       "      <td>Santiago</td>\n",
       "      <td>Miami</td>\n",
       "    </tr>\n",
       "    <tr>\n",
       "      <th>3</th>\n",
       "      <td>2017-01-04 23:30:00</td>\n",
       "      <td>226</td>\n",
       "      <td>SCEL</td>\n",
       "      <td>KMIA</td>\n",
       "      <td>AAL</td>\n",
       "      <td>2017-01-04 23:33:00</td>\n",
       "      <td>226</td>\n",
       "      <td>SCEL</td>\n",
       "      <td>KMIA</td>\n",
       "      <td>AAL</td>\n",
       "      <td>4</td>\n",
       "      <td>1</td>\n",
       "      <td>2017</td>\n",
       "      <td>Miercoles</td>\n",
       "      <td>I</td>\n",
       "      <td>American Airlines</td>\n",
       "      <td>Santiago</td>\n",
       "      <td>Miami</td>\n",
       "    </tr>\n",
       "    <tr>\n",
       "      <th>4</th>\n",
       "      <td>2017-01-05 23:30:00</td>\n",
       "      <td>226</td>\n",
       "      <td>SCEL</td>\n",
       "      <td>KMIA</td>\n",
       "      <td>AAL</td>\n",
       "      <td>2017-01-05 23:28:00</td>\n",
       "      <td>226</td>\n",
       "      <td>SCEL</td>\n",
       "      <td>KMIA</td>\n",
       "      <td>AAL</td>\n",
       "      <td>5</td>\n",
       "      <td>1</td>\n",
       "      <td>2017</td>\n",
       "      <td>Jueves</td>\n",
       "      <td>I</td>\n",
       "      <td>American Airlines</td>\n",
       "      <td>Santiago</td>\n",
       "      <td>Miami</td>\n",
       "    </tr>\n",
       "  </tbody>\n",
       "</table>\n",
       "</div>"
      ],
      "text/plain": [
       "               Fecha-I Vlo-I Ori-I Des-I Emp-I              Fecha-O Vlo-O  \\\n",
       "0  2017-01-01 23:30:00   226  SCEL  KMIA   AAL  2017-01-01 23:33:00   226   \n",
       "1  2017-01-02 23:30:00   226  SCEL  KMIA   AAL  2017-01-02 23:39:00   226   \n",
       "2  2017-01-03 23:30:00   226  SCEL  KMIA   AAL  2017-01-03 23:39:00   226   \n",
       "3  2017-01-04 23:30:00   226  SCEL  KMIA   AAL  2017-01-04 23:33:00   226   \n",
       "4  2017-01-05 23:30:00   226  SCEL  KMIA   AAL  2017-01-05 23:28:00   226   \n",
       "\n",
       "  Ori-O Des-O Emp-O  DIA  MES   AÑO     DIANOM TIPOVUELO              OPERA  \\\n",
       "0  SCEL  KMIA   AAL    1    1  2017    Domingo         I  American Airlines   \n",
       "1  SCEL  KMIA   AAL    2    1  2017      Lunes         I  American Airlines   \n",
       "2  SCEL  KMIA   AAL    3    1  2017     Martes         I  American Airlines   \n",
       "3  SCEL  KMIA   AAL    4    1  2017  Miercoles         I  American Airlines   \n",
       "4  SCEL  KMIA   AAL    5    1  2017     Jueves         I  American Airlines   \n",
       "\n",
       "   SIGLAORI SIGLADES  \n",
       "0  Santiago    Miami  \n",
       "1  Santiago    Miami  \n",
       "2  Santiago    Miami  \n",
       "3  Santiago    Miami  \n",
       "4  Santiago    Miami  "
      ]
     },
     "execution_count": 1,
     "metadata": {},
     "output_type": "execute_result"
    }
   ],
   "source": [
    "import numpy as np\n",
    "import pandas as pd\n",
    "import matplotlib.pyplot as plt\n",
    "\n",
    "df=pd.read_csv(\"/kaggle/input/dslatam/dataset_SCL.csv\") #load dataset\n",
    "df.head() #show first 5 rows at table"
   ]
  },
  {
   "cell_type": "code",
   "execution_count": 2,
   "id": "39775a83",
   "metadata": {
    "execution": {
     "iopub.execute_input": "2022-12-14T01:50:05.696727Z",
     "iopub.status.busy": "2022-12-14T01:50:05.696273Z",
     "iopub.status.idle": "2022-12-14T01:50:05.703178Z",
     "shell.execute_reply": "2022-12-14T01:50:05.702119Z"
    },
    "papermill": {
     "duration": 0.013869,
     "end_time": "2022-12-14T01:50:05.705584",
     "exception": false,
     "start_time": "2022-12-14T01:50:05.691715",
     "status": "completed"
    },
    "tags": []
   },
   "outputs": [
    {
     "data": {
      "text/plain": [
       "(68206, 18)"
      ]
     },
     "execution_count": 2,
     "metadata": {},
     "output_type": "execute_result"
    }
   ],
   "source": [
    "df.shape"
   ]
  },
  {
   "cell_type": "code",
   "execution_count": 3,
   "id": "46fffdde",
   "metadata": {
    "execution": {
     "iopub.execute_input": "2022-12-14T01:50:05.715662Z",
     "iopub.status.busy": "2022-12-14T01:50:05.714902Z",
     "iopub.status.idle": "2022-12-14T01:50:05.725147Z",
     "shell.execute_reply": "2022-12-14T01:50:05.722976Z"
    },
    "papermill": {
     "duration": 0.017985,
     "end_time": "2022-12-14T01:50:05.727742",
     "exception": false,
     "start_time": "2022-12-14T01:50:05.709757",
     "status": "completed"
    },
    "tags": []
   },
   "outputs": [
    {
     "data": {
      "text/plain": [
       "Fecha-I      object\n",
       "Vlo-I        object\n",
       "Ori-I        object\n",
       "Des-I        object\n",
       "Emp-I        object\n",
       "Fecha-O      object\n",
       "Vlo-O        object\n",
       "Ori-O        object\n",
       "Des-O        object\n",
       "Emp-O        object\n",
       "DIA           int64\n",
       "MES           int64\n",
       "AÑO           int64\n",
       "DIANOM       object\n",
       "TIPOVUELO    object\n",
       "OPERA        object\n",
       "SIGLAORI     object\n",
       "SIGLADES     object\n",
       "dtype: object"
      ]
     },
     "execution_count": 3,
     "metadata": {},
     "output_type": "execute_result"
    }
   ],
   "source": [
    "df.dtypes # show type of variables for every column"
   ]
  },
  {
   "cell_type": "code",
   "execution_count": 4,
   "id": "8fa81bce",
   "metadata": {
    "execution": {
     "iopub.execute_input": "2022-12-14T01:50:05.736759Z",
     "iopub.status.busy": "2022-12-14T01:50:05.736344Z",
     "iopub.status.idle": "2022-12-14T01:50:05.895372Z",
     "shell.execute_reply": "2022-12-14T01:50:05.893824Z"
    },
    "papermill": {
     "duration": 0.166595,
     "end_time": "2022-12-14T01:50:05.898405",
     "exception": false,
     "start_time": "2022-12-14T01:50:05.731810",
     "status": "completed"
    },
    "tags": []
   },
   "outputs": [
    {
     "name": "stdout",
     "output_type": "stream",
     "text": [
      "Vlo-I has 750 different values\n",
      "Ori-I has 1 different values\n",
      "Des-I has 64 different values\n",
      "Emp-I has 30 different values\n",
      "Vlo-O has 866 different values\n",
      "Ori-O has 1 different values\n",
      "Des-O has 63 different values\n",
      "Emp-O has 32 different values\n",
      "DIANOM has 7 different values\n",
      "TIPOVUELO has 2 different values\n",
      "OPERA has 23 different values\n",
      "SIGLAORI has 1 different values\n",
      "SIGLADES has 62 different values\n"
     ]
    }
   ],
   "source": [
    "# Adjust variables for correct format\n",
    "df['Fecha-I']=pd.to_datetime(df['Fecha-I'])\n",
    "df['Fecha-O']=pd.to_datetime(df['Fecha-O']) \n",
    "\n",
    "#Check if object variable can be category\n",
    "for col in df.columns:\n",
    "    if df[col].dtype == 'object':\n",
    "        print(f\"{col} has {df[col].nunique()} different values\")\n",
    "        "
   ]
  },
  {
   "cell_type": "code",
   "execution_count": 5,
   "id": "1657d014",
   "metadata": {
    "execution": {
     "iopub.execute_input": "2022-12-14T01:50:05.907009Z",
     "iopub.status.busy": "2022-12-14T01:50:05.906584Z",
     "iopub.status.idle": "2022-12-14T01:50:06.116629Z",
     "shell.execute_reply": "2022-12-14T01:50:06.115379Z"
    },
    "papermill": {
     "duration": 0.217503,
     "end_time": "2022-12-14T01:50:06.119446",
     "exception": false,
     "start_time": "2022-12-14T01:50:05.901943",
     "status": "completed"
    },
    "tags": []
   },
   "outputs": [],
   "source": [
    "#Based on the data catalog and the information above we have a cut-off for categorical variables with less than 500 values \n",
    "#I am doing this because I believe that this is just a sample of a bigger dataset which can contain more destination and origin cities.\n",
    "for col in df.columns:\n",
    "    if df[col].dtype == 'object' and df[col].nunique()<200:\n",
    "        df[col]=df[col].astype('category')"
   ]
  },
  {
   "cell_type": "code",
   "execution_count": 6,
   "id": "01362bff",
   "metadata": {
    "execution": {
     "iopub.execute_input": "2022-12-14T01:50:06.128112Z",
     "iopub.status.busy": "2022-12-14T01:50:06.127187Z",
     "iopub.status.idle": "2022-12-14T01:50:06.131849Z",
     "shell.execute_reply": "2022-12-14T01:50:06.130719Z"
    },
    "papermill": {
     "duration": 0.011442,
     "end_time": "2022-12-14T01:50:06.134232",
     "exception": false,
     "start_time": "2022-12-14T01:50:06.122790",
     "status": "completed"
    },
    "tags": []
   },
   "outputs": [],
   "source": [
    "#Considering that this is just a sample and assuming that the original dataset is a CSV file, the right thing to do is to add an argument on the read_csv function, dtypes={dict of every column with the value as the dtype}"
   ]
  },
  {
   "cell_type": "code",
   "execution_count": null,
   "id": "7c9ca8fe",
   "metadata": {
    "papermill": {
     "duration": 0.00451,
     "end_time": "2022-12-14T01:50:06.142185",
     "exception": false,
     "start_time": "2022-12-14T01:50:06.137675",
     "status": "completed"
    },
    "tags": []
   },
   "outputs": [],
   "source": []
  }
 ],
 "metadata": {
  "kernelspec": {
   "display_name": "Python 3",
   "language": "python",
   "name": "python3"
  },
  "language_info": {
   "codemirror_mode": {
    "name": "ipython",
    "version": 3
   },
   "file_extension": ".py",
   "mimetype": "text/x-python",
   "name": "python",
   "nbconvert_exporter": "python",
   "pygments_lexer": "ipython3",
   "version": "3.7.12"
  },
  "papermill": {
   "default_parameters": {},
   "duration": 10.163631,
   "end_time": "2022-12-14T01:50:06.872450",
   "environment_variables": {},
   "exception": null,
   "input_path": "__notebook__.ipynb",
   "output_path": "__notebook__.ipynb",
   "parameters": {},
   "start_time": "2022-12-14T01:49:56.708819",
   "version": "2.3.4"
  }
 },
 "nbformat": 4,
 "nbformat_minor": 5
}
