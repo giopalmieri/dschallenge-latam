{
 "cells": [
  {
   "cell_type": "code",
   "execution_count": 1,
   "id": "6ef2e9cd",
   "metadata": {
    "_cell_guid": "b1076dfc-b9ad-4769-8c92-a6c4dae69d19",
    "_uuid": "8f2839f25d086af736a60e9eeb907d3b93b6e0e5",
    "execution": {
     "iopub.execute_input": "2022-12-18T01:51:49.702732Z",
     "iopub.status.busy": "2022-12-18T01:51:49.702197Z",
     "iopub.status.idle": "2022-12-18T01:51:51.455146Z",
     "shell.execute_reply": "2022-12-18T01:51:51.453972Z"
    },
    "papermill": {
     "duration": 1.774146,
     "end_time": "2022-12-18T01:51:51.460782",
     "exception": false,
     "start_time": "2022-12-18T01:51:49.686636",
     "status": "completed"
    },
    "tags": []
   },
   "outputs": [
    {
     "name": "stderr",
     "output_type": "stream",
     "text": [
      "/opt/conda/lib/python3.7/site-packages/IPython/core/interactiveshell.py:3552: DtypeWarning: Columns (1,6) have mixed types.Specify dtype option on import or set low_memory=False.\n",
      "  exec(code_obj, self.user_global_ns, self.user_ns)\n"
     ]
    },
    {
     "data": {
      "text/html": [
       "<div>\n",
       "<style scoped>\n",
       "    .dataframe tbody tr th:only-of-type {\n",
       "        vertical-align: middle;\n",
       "    }\n",
       "\n",
       "    .dataframe tbody tr th {\n",
       "        vertical-align: top;\n",
       "    }\n",
       "\n",
       "    .dataframe thead th {\n",
       "        text-align: right;\n",
       "    }\n",
       "</style>\n",
       "<table border=\"1\" class=\"dataframe\">\n",
       "  <thead>\n",
       "    <tr style=\"text-align: right;\">\n",
       "      <th></th>\n",
       "      <th>Fecha-I</th>\n",
       "      <th>Vlo-I</th>\n",
       "      <th>Ori-I</th>\n",
       "      <th>Des-I</th>\n",
       "      <th>Emp-I</th>\n",
       "      <th>Fecha-O</th>\n",
       "      <th>Vlo-O</th>\n",
       "      <th>Ori-O</th>\n",
       "      <th>Des-O</th>\n",
       "      <th>Emp-O</th>\n",
       "      <th>DIA</th>\n",
       "      <th>MES</th>\n",
       "      <th>AÑO</th>\n",
       "      <th>DIANOM</th>\n",
       "      <th>TIPOVUELO</th>\n",
       "      <th>OPERA</th>\n",
       "      <th>SIGLAORI</th>\n",
       "      <th>SIGLADES</th>\n",
       "    </tr>\n",
       "  </thead>\n",
       "  <tbody>\n",
       "    <tr>\n",
       "      <th>0</th>\n",
       "      <td>2017-01-01 23:30:00</td>\n",
       "      <td>226</td>\n",
       "      <td>SCEL</td>\n",
       "      <td>KMIA</td>\n",
       "      <td>AAL</td>\n",
       "      <td>2017-01-01 23:33:00</td>\n",
       "      <td>226</td>\n",
       "      <td>SCEL</td>\n",
       "      <td>KMIA</td>\n",
       "      <td>AAL</td>\n",
       "      <td>1</td>\n",
       "      <td>1</td>\n",
       "      <td>2017</td>\n",
       "      <td>Domingo</td>\n",
       "      <td>I</td>\n",
       "      <td>American Airlines</td>\n",
       "      <td>Santiago</td>\n",
       "      <td>Miami</td>\n",
       "    </tr>\n",
       "    <tr>\n",
       "      <th>1</th>\n",
       "      <td>2017-01-02 23:30:00</td>\n",
       "      <td>226</td>\n",
       "      <td>SCEL</td>\n",
       "      <td>KMIA</td>\n",
       "      <td>AAL</td>\n",
       "      <td>2017-01-02 23:39:00</td>\n",
       "      <td>226</td>\n",
       "      <td>SCEL</td>\n",
       "      <td>KMIA</td>\n",
       "      <td>AAL</td>\n",
       "      <td>2</td>\n",
       "      <td>1</td>\n",
       "      <td>2017</td>\n",
       "      <td>Lunes</td>\n",
       "      <td>I</td>\n",
       "      <td>American Airlines</td>\n",
       "      <td>Santiago</td>\n",
       "      <td>Miami</td>\n",
       "    </tr>\n",
       "    <tr>\n",
       "      <th>2</th>\n",
       "      <td>2017-01-03 23:30:00</td>\n",
       "      <td>226</td>\n",
       "      <td>SCEL</td>\n",
       "      <td>KMIA</td>\n",
       "      <td>AAL</td>\n",
       "      <td>2017-01-03 23:39:00</td>\n",
       "      <td>226</td>\n",
       "      <td>SCEL</td>\n",
       "      <td>KMIA</td>\n",
       "      <td>AAL</td>\n",
       "      <td>3</td>\n",
       "      <td>1</td>\n",
       "      <td>2017</td>\n",
       "      <td>Martes</td>\n",
       "      <td>I</td>\n",
       "      <td>American Airlines</td>\n",
       "      <td>Santiago</td>\n",
       "      <td>Miami</td>\n",
       "    </tr>\n",
       "    <tr>\n",
       "      <th>3</th>\n",
       "      <td>2017-01-04 23:30:00</td>\n",
       "      <td>226</td>\n",
       "      <td>SCEL</td>\n",
       "      <td>KMIA</td>\n",
       "      <td>AAL</td>\n",
       "      <td>2017-01-04 23:33:00</td>\n",
       "      <td>226</td>\n",
       "      <td>SCEL</td>\n",
       "      <td>KMIA</td>\n",
       "      <td>AAL</td>\n",
       "      <td>4</td>\n",
       "      <td>1</td>\n",
       "      <td>2017</td>\n",
       "      <td>Miercoles</td>\n",
       "      <td>I</td>\n",
       "      <td>American Airlines</td>\n",
       "      <td>Santiago</td>\n",
       "      <td>Miami</td>\n",
       "    </tr>\n",
       "    <tr>\n",
       "      <th>4</th>\n",
       "      <td>2017-01-05 23:30:00</td>\n",
       "      <td>226</td>\n",
       "      <td>SCEL</td>\n",
       "      <td>KMIA</td>\n",
       "      <td>AAL</td>\n",
       "      <td>2017-01-05 23:28:00</td>\n",
       "      <td>226</td>\n",
       "      <td>SCEL</td>\n",
       "      <td>KMIA</td>\n",
       "      <td>AAL</td>\n",
       "      <td>5</td>\n",
       "      <td>1</td>\n",
       "      <td>2017</td>\n",
       "      <td>Jueves</td>\n",
       "      <td>I</td>\n",
       "      <td>American Airlines</td>\n",
       "      <td>Santiago</td>\n",
       "      <td>Miami</td>\n",
       "    </tr>\n",
       "  </tbody>\n",
       "</table>\n",
       "</div>"
      ],
      "text/plain": [
       "               Fecha-I Vlo-I Ori-I Des-I Emp-I              Fecha-O Vlo-O  \\\n",
       "0  2017-01-01 23:30:00   226  SCEL  KMIA   AAL  2017-01-01 23:33:00   226   \n",
       "1  2017-01-02 23:30:00   226  SCEL  KMIA   AAL  2017-01-02 23:39:00   226   \n",
       "2  2017-01-03 23:30:00   226  SCEL  KMIA   AAL  2017-01-03 23:39:00   226   \n",
       "3  2017-01-04 23:30:00   226  SCEL  KMIA   AAL  2017-01-04 23:33:00   226   \n",
       "4  2017-01-05 23:30:00   226  SCEL  KMIA   AAL  2017-01-05 23:28:00   226   \n",
       "\n",
       "  Ori-O Des-O Emp-O  DIA  MES   AÑO     DIANOM TIPOVUELO              OPERA  \\\n",
       "0  SCEL  KMIA   AAL    1    1  2017    Domingo         I  American Airlines   \n",
       "1  SCEL  KMIA   AAL    2    1  2017      Lunes         I  American Airlines   \n",
       "2  SCEL  KMIA   AAL    3    1  2017     Martes         I  American Airlines   \n",
       "3  SCEL  KMIA   AAL    4    1  2017  Miercoles         I  American Airlines   \n",
       "4  SCEL  KMIA   AAL    5    1  2017     Jueves         I  American Airlines   \n",
       "\n",
       "   SIGLAORI SIGLADES  \n",
       "0  Santiago    Miami  \n",
       "1  Santiago    Miami  \n",
       "2  Santiago    Miami  \n",
       "3  Santiago    Miami  \n",
       "4  Santiago    Miami  "
      ]
     },
     "execution_count": 1,
     "metadata": {},
     "output_type": "execute_result"
    }
   ],
   "source": [
    "import numpy as np\n",
    "import pandas as pd\n",
    "import matplotlib.pyplot as plt\n",
    "import seaborn as sns\n",
    "from sklearn.model_selection import KFold\n",
    "df=pd.read_csv(\"/kaggle/input/dslatam/dataset_SCL.csv\") #load dataset\n",
    "df.head() #show first 5 rows at table"
   ]
  },
  {
   "cell_type": "code",
   "execution_count": 2,
   "id": "842bd127",
   "metadata": {
    "execution": {
     "iopub.execute_input": "2022-12-18T01:51:51.489548Z",
     "iopub.status.busy": "2022-12-18T01:51:51.489128Z",
     "iopub.status.idle": "2022-12-18T01:51:51.496894Z",
     "shell.execute_reply": "2022-12-18T01:51:51.495853Z"
    },
    "papermill": {
     "duration": 0.025778,
     "end_time": "2022-12-18T01:51:51.499206",
     "exception": false,
     "start_time": "2022-12-18T01:51:51.473428",
     "status": "completed"
    },
    "tags": []
   },
   "outputs": [
    {
     "data": {
      "text/plain": [
       "(68206, 18)"
      ]
     },
     "execution_count": 2,
     "metadata": {},
     "output_type": "execute_result"
    }
   ],
   "source": [
    "df.shape"
   ]
  },
  {
   "cell_type": "code",
   "execution_count": 3,
   "id": "4dd6f25d",
   "metadata": {
    "execution": {
     "iopub.execute_input": "2022-12-18T01:51:51.527105Z",
     "iopub.status.busy": "2022-12-18T01:51:51.525901Z",
     "iopub.status.idle": "2022-12-18T01:51:51.535968Z",
     "shell.execute_reply": "2022-12-18T01:51:51.534708Z"
    },
    "papermill": {
     "duration": 0.026285,
     "end_time": "2022-12-18T01:51:51.538321",
     "exception": false,
     "start_time": "2022-12-18T01:51:51.512036",
     "status": "completed"
    },
    "tags": []
   },
   "outputs": [
    {
     "data": {
      "text/plain": [
       "Fecha-I      object\n",
       "Vlo-I        object\n",
       "Ori-I        object\n",
       "Des-I        object\n",
       "Emp-I        object\n",
       "Fecha-O      object\n",
       "Vlo-O        object\n",
       "Ori-O        object\n",
       "Des-O        object\n",
       "Emp-O        object\n",
       "DIA           int64\n",
       "MES           int64\n",
       "AÑO           int64\n",
       "DIANOM       object\n",
       "TIPOVUELO    object\n",
       "OPERA        object\n",
       "SIGLAORI     object\n",
       "SIGLADES     object\n",
       "dtype: object"
      ]
     },
     "execution_count": 3,
     "metadata": {},
     "output_type": "execute_result"
    }
   ],
   "source": [
    "df.dtypes # show type of variables for every column"
   ]
  },
  {
   "cell_type": "code",
   "execution_count": 4,
   "id": "ba5660a4",
   "metadata": {
    "execution": {
     "iopub.execute_input": "2022-12-18T01:51:51.565417Z",
     "iopub.status.busy": "2022-12-18T01:51:51.564960Z",
     "iopub.status.idle": "2022-12-18T01:51:51.708134Z",
     "shell.execute_reply": "2022-12-18T01:51:51.706009Z"
    },
    "papermill": {
     "duration": 0.160245,
     "end_time": "2022-12-18T01:51:51.710887",
     "exception": false,
     "start_time": "2022-12-18T01:51:51.550642",
     "status": "completed"
    },
    "tags": []
   },
   "outputs": [
    {
     "name": "stdout",
     "output_type": "stream",
     "text": [
      "Vlo-I has 750 different values\n",
      "Ori-I has 1 different values\n",
      "Des-I has 64 different values\n",
      "Emp-I has 30 different values\n",
      "Vlo-O has 866 different values\n",
      "Ori-O has 1 different values\n",
      "Des-O has 63 different values\n",
      "Emp-O has 32 different values\n",
      "DIA is int64 and max value is: 31 and min value is: 1\n",
      "MES is int64 and max value is: 12 and min value is: 1\n",
      "AÑO is int64 and max value is: 2018 and min value is: 2017\n",
      "DIANOM has 7 different values\n",
      "TIPOVUELO has 2 different values\n",
      "OPERA has 23 different values\n",
      "SIGLAORI has 1 different values\n",
      "SIGLADES has 62 different values\n"
     ]
    }
   ],
   "source": [
    "# Adjust variables for correct format\n",
    "df['Fecha-I']=pd.to_datetime(df['Fecha-I'])\n",
    "df['Fecha-O']=pd.to_datetime(df['Fecha-O']) \n",
    "\n",
    "#Check if object variable can be category\n",
    "for col in df.columns:\n",
    "    if df[col].dtype == 'object':\n",
    "        print(f\"{col} has {df[col].nunique()} different values\")\n",
    "    elif df[col].dtype == 'int64':\n",
    "        print(f\"{col} is int64 and max value is: {df[col].max()} and min value is: {df[col].min()}\")\n",
    "        "
   ]
  },
  {
   "cell_type": "code",
   "execution_count": 5,
   "id": "d00297bd",
   "metadata": {
    "execution": {
     "iopub.execute_input": "2022-12-18T01:51:51.738253Z",
     "iopub.status.busy": "2022-12-18T01:51:51.737698Z",
     "iopub.status.idle": "2022-12-18T01:51:51.967622Z",
     "shell.execute_reply": "2022-12-18T01:51:51.966305Z"
    },
    "papermill": {
     "duration": 0.247057,
     "end_time": "2022-12-18T01:51:51.970508",
     "exception": false,
     "start_time": "2022-12-18T01:51:51.723451",
     "status": "completed"
    },
    "tags": []
   },
   "outputs": [
    {
     "data": {
      "text/plain": [
       "Fecha-I      datetime64[ns]\n",
       "Vlo-I                object\n",
       "Ori-I              category\n",
       "Des-I              category\n",
       "Emp-I              category\n",
       "Fecha-O      datetime64[ns]\n",
       "Vlo-O                object\n",
       "Ori-O              category\n",
       "Des-O              category\n",
       "Emp-O              category\n",
       "DIA                    int8\n",
       "MES                    int8\n",
       "AÑO                   int16\n",
       "DIANOM             category\n",
       "TIPOVUELO          category\n",
       "OPERA              category\n",
       "SIGLAORI           category\n",
       "SIGLADES           category\n",
       "dtype: object"
      ]
     },
     "execution_count": 5,
     "metadata": {},
     "output_type": "execute_result"
    }
   ],
   "source": [
    "#Based on the data catalog and the information above we have a cut-off for categorical variables with less than 500 values \n",
    "#I am doing this because I believe that this is just a sample of a bigger dataset which can contain more destination and origin cities.\n",
    "catcols=[]\n",
    "for col in df.columns:\n",
    "    if df[col].dtype == 'object' and df[col].nunique()<200:\n",
    "        df[col]=df[col].astype('category')\n",
    "        catcols.append(col)\n",
    "    elif df[col].dtype == 'int64' and df[col].max() < 127:\n",
    "        df[col]=df[col].astype('int8')\n",
    "    elif df[col].dtype == 'int64' and df[col].max() < 32767: \n",
    "        df[col]=df[col].astype('int16')\n",
    "df.dtypes"
   ]
  },
  {
   "cell_type": "code",
   "execution_count": 6,
   "id": "84caba54",
   "metadata": {
    "execution": {
     "iopub.execute_input": "2022-12-18T01:51:51.998890Z",
     "iopub.status.busy": "2022-12-18T01:51:51.998439Z",
     "iopub.status.idle": "2022-12-18T01:51:52.004228Z",
     "shell.execute_reply": "2022-12-18T01:51:52.002463Z"
    },
    "papermill": {
     "duration": 0.023554,
     "end_time": "2022-12-18T01:51:52.007170",
     "exception": false,
     "start_time": "2022-12-18T01:51:51.983616",
     "status": "completed"
    },
    "tags": []
   },
   "outputs": [],
   "source": [
    "#Considering that this is just a sample and assuming that the original dataset is a CSV file, the right thing to do is to add an argument on the read_csv function, dtypes={dict of every column with the value as the dtype}\n",
    "#We could"
   ]
  },
  {
   "cell_type": "code",
   "execution_count": 7,
   "id": "b4e4e208",
   "metadata": {
    "execution": {
     "iopub.execute_input": "2022-12-18T01:51:52.035536Z",
     "iopub.status.busy": "2022-12-18T01:51:52.035096Z",
     "iopub.status.idle": "2022-12-18T01:51:52.453430Z",
     "shell.execute_reply": "2022-12-18T01:51:52.451442Z"
    },
    "papermill": {
     "duration": 0.436019,
     "end_time": "2022-12-18T01:51:52.456313",
     "exception": false,
     "start_time": "2022-12-18T01:51:52.020294",
     "status": "completed"
    },
    "tags": []
   },
   "outputs": [
    {
     "name": "stdout",
     "output_type": "stream",
     "text": [
      "CPU times: user 389 ms, sys: 9.64 ms, total: 398 ms\n",
      "Wall time: 401 ms\n"
     ]
    },
    {
     "data": {
      "text/html": [
       "<div>\n",
       "<style scoped>\n",
       "    .dataframe tbody tr th:only-of-type {\n",
       "        vertical-align: middle;\n",
       "    }\n",
       "\n",
       "    .dataframe tbody tr th {\n",
       "        vertical-align: top;\n",
       "    }\n",
       "\n",
       "    .dataframe thead th {\n",
       "        text-align: right;\n",
       "    }\n",
       "</style>\n",
       "<table border=\"1\" class=\"dataframe\">\n",
       "  <thead>\n",
       "    <tr style=\"text-align: right;\">\n",
       "      <th>high_season</th>\n",
       "      <th>False</th>\n",
       "      <th>True</th>\n",
       "    </tr>\n",
       "    <tr>\n",
       "      <th>Fecha-I</th>\n",
       "      <th></th>\n",
       "      <th></th>\n",
       "    </tr>\n",
       "  </thead>\n",
       "  <tbody>\n",
       "    <tr>\n",
       "      <th>1</th>\n",
       "      <td>NaN</td>\n",
       "      <td>6108.0</td>\n",
       "    </tr>\n",
       "    <tr>\n",
       "      <th>2</th>\n",
       "      <td>NaN</td>\n",
       "      <td>5561.0</td>\n",
       "    </tr>\n",
       "    <tr>\n",
       "      <th>3</th>\n",
       "      <td>4903.0</td>\n",
       "      <td>577.0</td>\n",
       "    </tr>\n",
       "    <tr>\n",
       "      <th>4</th>\n",
       "      <td>5021.0</td>\n",
       "      <td>NaN</td>\n",
       "    </tr>\n",
       "    <tr>\n",
       "      <th>5</th>\n",
       "      <td>5239.0</td>\n",
       "      <td>NaN</td>\n",
       "    </tr>\n",
       "    <tr>\n",
       "      <th>6</th>\n",
       "      <td>4982.0</td>\n",
       "      <td>NaN</td>\n",
       "    </tr>\n",
       "    <tr>\n",
       "      <th>7</th>\n",
       "      <td>2701.0</td>\n",
       "      <td>3290.0</td>\n",
       "    </tr>\n",
       "    <tr>\n",
       "      <th>8</th>\n",
       "      <td>5744.0</td>\n",
       "      <td>NaN</td>\n",
       "    </tr>\n",
       "    <tr>\n",
       "      <th>9</th>\n",
       "      <td>1853.0</td>\n",
       "      <td>3757.0</td>\n",
       "    </tr>\n",
       "    <tr>\n",
       "      <th>10</th>\n",
       "      <td>6032.0</td>\n",
       "      <td>NaN</td>\n",
       "    </tr>\n",
       "    <tr>\n",
       "      <th>11</th>\n",
       "      <td>6081.0</td>\n",
       "      <td>NaN</td>\n",
       "    </tr>\n",
       "    <tr>\n",
       "      <th>12</th>\n",
       "      <td>2888.0</td>\n",
       "      <td>3469.0</td>\n",
       "    </tr>\n",
       "  </tbody>\n",
       "</table>\n",
       "</div>"
      ],
      "text/plain": [
       "high_season   False    True\n",
       "Fecha-I                    \n",
       "1               NaN  6108.0\n",
       "2               NaN  5561.0\n",
       "3            4903.0   577.0\n",
       "4            5021.0     NaN\n",
       "5            5239.0     NaN\n",
       "6            4982.0     NaN\n",
       "7            2701.0  3290.0\n",
       "8            5744.0     NaN\n",
       "9            1853.0  3757.0\n",
       "10           6032.0     NaN\n",
       "11           6081.0     NaN\n",
       "12           2888.0  3469.0"
      ]
     },
     "execution_count": 7,
     "metadata": {},
     "output_type": "execute_result"
    }
   ],
   "source": [
    "%%time\n",
    "#creating a function and dummy variables for month and day is a simple way to create the high_season feat\n",
    "def high_season(x):\n",
    "    month=x.month\n",
    "    day=x.day\n",
    "    if ((month == 12 and day >= 15) or\n",
    "     (month in [1,2]) or \n",
    "     (month == 3 and day <= 3) or \n",
    "     (month == 7 and day >= 15 and day <= 31) or \n",
    "     (month == 9 and day >= 11 and day <= 30)): return True #the outer parentesis is to multiple line conditions\n",
    "    else:\n",
    "        return False\n",
    "    \n",
    "df['high_season']=df['Fecha-I'].apply(lambda x: high_season(x))\n",
    "df.groupby([df['Fecha-I'].dt.month,'high_season'])['Fecha-O'].count().unstack()\n",
    "\n",
    "     "
   ]
  },
  {
   "cell_type": "code",
   "execution_count": 8,
   "id": "5a904e52",
   "metadata": {
    "execution": {
     "iopub.execute_input": "2022-12-18T01:51:52.484925Z",
     "iopub.status.busy": "2022-12-18T01:51:52.484512Z",
     "iopub.status.idle": "2022-12-18T01:51:52.860430Z",
     "shell.execute_reply": "2022-12-18T01:51:52.858582Z"
    },
    "papermill": {
     "duration": 0.393505,
     "end_time": "2022-12-18T01:51:52.863217",
     "exception": false,
     "start_time": "2022-12-18T01:51:52.469712",
     "status": "completed"
    },
    "tags": []
   },
   "outputs": [
    {
     "name": "stderr",
     "output_type": "stream",
     "text": [
      "/opt/conda/lib/python3.7/site-packages/ipykernel_launcher.py:1: FutureWarning: Series.dt.weekofyear and Series.dt.week have been deprecated.  Please use Series.dt.isocalendar().week instead.\n",
      "  \"\"\"Entry point for launching an IPython kernel.\n"
     ]
    },
    {
     "data": {
      "image/png": "[encoded data removed]",
      "text/plain": [
       "<Figure size 1080x288 with 1 Axes>"
      ]
     },
     "metadata": {
      "needs_background": "light"
     },
     "output_type": "display_data"
    },
    {
     "name": "stdout",
     "output_type": "stream",
     "text": [
      "Weeks that should be the high_season (based on number of flights) \n",
      "[ 1  2  3  4  5  6  7  8 27 28 29 30 39 40 41 42 43 44 45 46 47 48 49 50\n",
      " 51 52]\n",
      "\n",
      " instead of [ 1  2  3  4  5  6  7  8  9 28 29 30 31 37 38 39 50 51 52]\n"
     ]
    },
    {
     "name": "stderr",
     "output_type": "stream",
     "text": [
      "/opt/conda/lib/python3.7/site-packages/ipykernel_launcher.py:9: FutureWarning: Series.dt.weekofyear and Series.dt.week have been deprecated.  Please use Series.dt.isocalendar().week instead.\n",
      "  if __name__ == \"__main__\":\n",
      "/opt/conda/lib/python3.7/site-packages/ipykernel_launcher.py:10: FutureWarning: Series.dt.weekofyear and Series.dt.week have been deprecated.  Please use Series.dt.isocalendar().week instead.\n",
      "  # Remove the CWD from sys.path while we load stuff.\n"
     ]
    },
    {
     "data": {
      "text/html": [
       "<div>\n",
       "<style scoped>\n",
       "    .dataframe tbody tr th:only-of-type {\n",
       "        vertical-align: middle;\n",
       "    }\n",
       "\n",
       "    .dataframe tbody tr th {\n",
       "        vertical-align: top;\n",
       "    }\n",
       "\n",
       "    .dataframe thead th {\n",
       "        text-align: right;\n",
       "    }\n",
       "</style>\n",
       "<table border=\"1\" class=\"dataframe\">\n",
       "  <thead>\n",
       "    <tr style=\"text-align: right;\">\n",
       "      <th>high_season_2</th>\n",
       "      <th>False</th>\n",
       "      <th>True</th>\n",
       "    </tr>\n",
       "    <tr>\n",
       "      <th>high_season</th>\n",
       "      <th></th>\n",
       "      <th></th>\n",
       "    </tr>\n",
       "  </thead>\n",
       "  <tbody>\n",
       "    <tr>\n",
       "      <th>False</th>\n",
       "      <td>28073</td>\n",
       "      <td>17371</td>\n",
       "    </tr>\n",
       "    <tr>\n",
       "      <th>True</th>\n",
       "      <td>3764</td>\n",
       "      <td>18998</td>\n",
       "    </tr>\n",
       "  </tbody>\n",
       "</table>\n",
       "</div>"
      ],
      "text/plain": [
       "high_season_2  False   True\n",
       "high_season                \n",
       "False          28073  17371\n",
       "True            3764  18998"
      ]
     },
     "execution_count": 8,
     "metadata": {},
     "output_type": "execute_result"
    }
   ],
   "source": [
    "week_dist=df[df['Fecha-I'].dt.year==2017].groupby(df['Fecha-I'].dt.week)['Fecha-O'].count()\n",
    "week_dist.plot(figsize=(15,4)) #not using year because only has dates in 2017\n",
    "q=week_dist.quantile(q=0.5)\n",
    "plt.plot([1,51],[q,q])\n",
    "plt.legend(['week distribution','50% quantile'])\n",
    "plt.show()\n",
    "#the graph below show us the quantity of flights by week in 2017, we can see that the high season variable \n",
    "print(f\"\"\"Weeks that should be the high_season (based on number of flights) \\n{week_dist[week_dist>q].index.values}\n",
    "\\n instead of {df[df['high_season']==1]['Fecha-I'].dt.week.value_counts().index.sort_values().values}\"\"\")\n",
    "df['high_season_2']=(df['Fecha-I'].dt.week.isin(week_dist[week_dist>q].index.values)).astype(bool)\n",
    "# parallel high_season for this analysis\n",
    "df.groupby(['high_season','high_season_2'])['Fecha-I'].count().unstack()"
   ]
  },
  {
   "cell_type": "code",
   "execution_count": 9,
   "id": "67a7bd1b",
   "metadata": {
    "execution": {
     "iopub.execute_input": "2022-12-18T01:51:52.894773Z",
     "iopub.status.busy": "2022-12-18T01:51:52.894335Z",
     "iopub.status.idle": "2022-12-18T01:51:52.965546Z",
     "shell.execute_reply": "2022-12-18T01:51:52.964076Z"
    },
    "papermill": {
     "duration": 0.090494,
     "end_time": "2022-12-18T01:51:52.968494",
     "exception": false,
     "start_time": "2022-12-18T01:51:52.878000",
     "status": "completed"
    },
    "tags": []
   },
   "outputs": [
    {
     "data": {
      "text/html": [
       "<div>\n",
       "<style scoped>\n",
       "    .dataframe tbody tr th:only-of-type {\n",
       "        vertical-align: middle;\n",
       "    }\n",
       "\n",
       "    .dataframe tbody tr th {\n",
       "        vertical-align: top;\n",
       "    }\n",
       "\n",
       "    .dataframe thead th {\n",
       "        text-align: right;\n",
       "    }\n",
       "</style>\n",
       "<table border=\"1\" class=\"dataframe\">\n",
       "  <thead>\n",
       "    <tr style=\"text-align: right;\">\n",
       "      <th></th>\n",
       "      <th>Fecha-I</th>\n",
       "      <th>Vlo-I</th>\n",
       "      <th>Ori-I</th>\n",
       "      <th>Des-I</th>\n",
       "      <th>Emp-I</th>\n",
       "      <th>Fecha-O</th>\n",
       "      <th>Vlo-O</th>\n",
       "      <th>Ori-O</th>\n",
       "      <th>Des-O</th>\n",
       "      <th>Emp-O</th>\n",
       "      <th>...</th>\n",
       "      <th>DIANOM</th>\n",
       "      <th>TIPOVUELO</th>\n",
       "      <th>OPERA</th>\n",
       "      <th>SIGLAORI</th>\n",
       "      <th>SIGLADES</th>\n",
       "      <th>high_season</th>\n",
       "      <th>high_season_2</th>\n",
       "      <th>min_diff</th>\n",
       "      <th>delay_15</th>\n",
       "      <th>period_day</th>\n",
       "    </tr>\n",
       "  </thead>\n",
       "  <tbody>\n",
       "    <tr>\n",
       "      <th>0</th>\n",
       "      <td>2017-01-01 23:30:00</td>\n",
       "      <td>226</td>\n",
       "      <td>SCEL</td>\n",
       "      <td>KMIA</td>\n",
       "      <td>AAL</td>\n",
       "      <td>2017-01-01 23:33:00</td>\n",
       "      <td>226</td>\n",
       "      <td>SCEL</td>\n",
       "      <td>KMIA</td>\n",
       "      <td>AAL</td>\n",
       "      <td>...</td>\n",
       "      <td>Domingo</td>\n",
       "      <td>I</td>\n",
       "      <td>American Airlines</td>\n",
       "      <td>Santiago</td>\n",
       "      <td>Miami</td>\n",
       "      <td>True</td>\n",
       "      <td>True</td>\n",
       "      <td>3</td>\n",
       "      <td>False</td>\n",
       "      <td>night</td>\n",
       "    </tr>\n",
       "    <tr>\n",
       "      <th>1</th>\n",
       "      <td>2017-01-02 23:30:00</td>\n",
       "      <td>226</td>\n",
       "      <td>SCEL</td>\n",
       "      <td>KMIA</td>\n",
       "      <td>AAL</td>\n",
       "      <td>2017-01-02 23:39:00</td>\n",
       "      <td>226</td>\n",
       "      <td>SCEL</td>\n",
       "      <td>KMIA</td>\n",
       "      <td>AAL</td>\n",
       "      <td>...</td>\n",
       "      <td>Lunes</td>\n",
       "      <td>I</td>\n",
       "      <td>American Airlines</td>\n",
       "      <td>Santiago</td>\n",
       "      <td>Miami</td>\n",
       "      <td>True</td>\n",
       "      <td>True</td>\n",
       "      <td>9</td>\n",
       "      <td>False</td>\n",
       "      <td>night</td>\n",
       "    </tr>\n",
       "    <tr>\n",
       "      <th>2</th>\n",
       "      <td>2017-01-03 23:30:00</td>\n",
       "      <td>226</td>\n",
       "      <td>SCEL</td>\n",
       "      <td>KMIA</td>\n",
       "      <td>AAL</td>\n",
       "      <td>2017-01-03 23:39:00</td>\n",
       "      <td>226</td>\n",
       "      <td>SCEL</td>\n",
       "      <td>KMIA</td>\n",
       "      <td>AAL</td>\n",
       "      <td>...</td>\n",
       "      <td>Martes</td>\n",
       "      <td>I</td>\n",
       "      <td>American Airlines</td>\n",
       "      <td>Santiago</td>\n",
       "      <td>Miami</td>\n",
       "      <td>True</td>\n",
       "      <td>True</td>\n",
       "      <td>9</td>\n",
       "      <td>False</td>\n",
       "      <td>night</td>\n",
       "    </tr>\n",
       "    <tr>\n",
       "      <th>3</th>\n",
       "      <td>2017-01-04 23:30:00</td>\n",
       "      <td>226</td>\n",
       "      <td>SCEL</td>\n",
       "      <td>KMIA</td>\n",
       "      <td>AAL</td>\n",
       "      <td>2017-01-04 23:33:00</td>\n",
       "      <td>226</td>\n",
       "      <td>SCEL</td>\n",
       "      <td>KMIA</td>\n",
       "      <td>AAL</td>\n",
       "      <td>...</td>\n",
       "      <td>Miercoles</td>\n",
       "      <td>I</td>\n",
       "      <td>American Airlines</td>\n",
       "      <td>Santiago</td>\n",
       "      <td>Miami</td>\n",
       "      <td>True</td>\n",
       "      <td>True</td>\n",
       "      <td>3</td>\n",
       "      <td>False</td>\n",
       "      <td>night</td>\n",
       "    </tr>\n",
       "    <tr>\n",
       "      <th>4</th>\n",
       "      <td>2017-01-05 23:30:00</td>\n",
       "      <td>226</td>\n",
       "      <td>SCEL</td>\n",
       "      <td>KMIA</td>\n",
       "      <td>AAL</td>\n",
       "      <td>2017-01-05 23:28:00</td>\n",
       "      <td>226</td>\n",
       "      <td>SCEL</td>\n",
       "      <td>KMIA</td>\n",
       "      <td>AAL</td>\n",
       "      <td>...</td>\n",
       "      <td>Jueves</td>\n",
       "      <td>I</td>\n",
       "      <td>American Airlines</td>\n",
       "      <td>Santiago</td>\n",
       "      <td>Miami</td>\n",
       "      <td>True</td>\n",
       "      <td>True</td>\n",
       "      <td>-2</td>\n",
       "      <td>False</td>\n",
       "      <td>night</td>\n",
       "    </tr>\n",
       "  </tbody>\n",
       "</table>\n",
       "<p>5 rows × 23 columns</p>\n",
       "</div>"
      ],
      "text/plain": [
       "              Fecha-I Vlo-I Ori-I Des-I Emp-I             Fecha-O Vlo-O Ori-O  \\\n",
       "0 2017-01-01 23:30:00   226  SCEL  KMIA   AAL 2017-01-01 23:33:00   226  SCEL   \n",
       "1 2017-01-02 23:30:00   226  SCEL  KMIA   AAL 2017-01-02 23:39:00   226  SCEL   \n",
       "2 2017-01-03 23:30:00   226  SCEL  KMIA   AAL 2017-01-03 23:39:00   226  SCEL   \n",
       "3 2017-01-04 23:30:00   226  SCEL  KMIA   AAL 2017-01-04 23:33:00   226  SCEL   \n",
       "4 2017-01-05 23:30:00   226  SCEL  KMIA   AAL 2017-01-05 23:28:00   226  SCEL   \n",
       "\n",
       "  Des-O Emp-O  ...     DIANOM  TIPOVUELO              OPERA  SIGLAORI  \\\n",
       "0  KMIA   AAL  ...    Domingo          I  American Airlines  Santiago   \n",
       "1  KMIA   AAL  ...      Lunes          I  American Airlines  Santiago   \n",
       "2  KMIA   AAL  ...     Martes          I  American Airlines  Santiago   \n",
       "3  KMIA   AAL  ...  Miercoles          I  American Airlines  Santiago   \n",
       "4  KMIA   AAL  ...     Jueves          I  American Airlines  Santiago   \n",
       "\n",
       "  SIGLADES high_season high_season_2 min_diff  delay_15  period_day  \n",
       "0    Miami        True          True        3     False       night  \n",
       "1    Miami        True          True        9     False       night  \n",
       "2    Miami        True          True        9     False       night  \n",
       "3    Miami        True          True        3     False       night  \n",
       "4    Miami        True          True       -2     False       night  \n",
       "\n",
       "[5 rows x 23 columns]"
      ]
     },
     "execution_count": 9,
     "metadata": {},
     "output_type": "execute_result"
    }
   ],
   "source": [
    "df['min_diff']=((df['Fecha-O']-df['Fecha-I']).dt.total_seconds()/60).astype(\"int16\") #diff between dates in minutes\n",
    "df['delay_15']=(df['min_diff']>15).astype(bool) #bool is lighter than intergers, using vectorization we can speed-up this step\n",
    "df['period_day']=df['Fecha-I'].dt.hour.apply(lambda x: 'night' if x >= 19 or x<= 4 else (\n",
    "                                            'morning' if x <= 12 else 'afternoon' )).astype('category') # one alternative method: map()\n",
    "df.head()"
   ]
  },
  {
   "cell_type": "code",
   "execution_count": 10,
   "id": "54bf278b",
   "metadata": {
    "execution": {
     "iopub.execute_input": "2022-12-18T01:51:53.001445Z",
     "iopub.status.busy": "2022-12-18T01:51:53.000660Z",
     "iopub.status.idle": "2022-12-18T01:51:53.698738Z",
     "shell.execute_reply": "2022-12-18T01:51:53.697659Z"
    },
    "papermill": {
     "duration": 0.718008,
     "end_time": "2022-12-18T01:51:53.701524",
     "exception": false,
     "start_time": "2022-12-18T01:51:52.983516",
     "status": "completed"
    },
    "tags": []
   },
   "outputs": [
    {
     "data": {
      "image/png": "[encoded data removed]",
      "text/plain": [
       "<Figure size 432x288 with 1 Axes>"
      ]
     },
     "metadata": {
      "needs_background": "light"
     },
     "output_type": "display_data"
    },
    {
     "data": {
      "image/png": "[encoded data removed]",
      "text/plain": [
       "<Figure size 432x288 with 1 Axes>"
      ]
     },
     "metadata": {
      "needs_background": "light"
     },
     "output_type": "display_data"
    },
    {
     "data": {
      "image/png": "[encoded data removed]",
      "text/plain": [
       "<Figure size 432x288 with 1 Axes>"
      ]
     },
     "metadata": {
      "needs_background": "light"
     },
     "output_type": "display_data"
    },
    {
     "data": {
      "image/png": "[encoded data removed]",
      "text/plain": [
       "<Figure size 432x288 with 1 Axes>"
      ]
     },
     "metadata": {
      "needs_background": "light"
     },
     "output_type": "display_data"
    }
   ],
   "source": [
    "for var in ['high_season','high_season_2','delay_15','period_day']:\n",
    "    df.groupby(var)['Fecha-I'].count().plot.bar()\n",
    "    plt.show()\n",
    "#We can see that the generated variables makes sense, in the next cell we are going to compare all of the variables with delay_15 to see if we can see a clear pattern in variables."
   ]
  },
  {
   "cell_type": "code",
   "execution_count": 11,
   "id": "4553fbf5",
   "metadata": {
    "execution": {
     "iopub.execute_input": "2022-12-18T01:51:53.733847Z",
     "iopub.status.busy": "2022-12-18T01:51:53.733438Z",
     "iopub.status.idle": "2022-12-18T01:51:53.865570Z",
     "shell.execute_reply": "2022-12-18T01:51:53.864173Z"
    },
    "papermill": {
     "duration": 0.151747,
     "end_time": "2022-12-18T01:51:53.868640",
     "exception": false,
     "start_time": "2022-12-18T01:51:53.716893",
     "status": "completed"
    },
    "tags": []
   },
   "outputs": [],
   "source": [
    "df[['high_season','min_diff','delay_15','period_day']].to_csv('d synthetic_features.csv')\n",
    "#The pdf is not clear if the file should contain all the variables in the dataframe,as writen I only exported the created features\n"
   ]
  },
  {
   "cell_type": "code",
   "execution_count": 12,
   "id": "b65abea0",
   "metadata": {
    "execution": {
     "iopub.execute_input": "2022-12-18T01:51:53.901649Z",
     "iopub.status.busy": "2022-12-18T01:51:53.901198Z",
     "iopub.status.idle": "2022-12-18T01:51:53.924229Z",
     "shell.execute_reply": "2022-12-18T01:51:53.922818Z"
    },
    "papermill": {
     "duration": 0.042254,
     "end_time": "2022-12-18T01:51:53.926782",
     "exception": false,
     "start_time": "2022-12-18T01:51:53.884528",
     "status": "completed"
    },
    "tags": []
   },
   "outputs": [
    {
     "data": {
      "text/html": [
       "<div>\n",
       "<style scoped>\n",
       "    .dataframe tbody tr th:only-of-type {\n",
       "        vertical-align: middle;\n",
       "    }\n",
       "\n",
       "    .dataframe tbody tr th {\n",
       "        vertical-align: top;\n",
       "    }\n",
       "\n",
       "    .dataframe thead th {\n",
       "        text-align: right;\n",
       "    }\n",
       "</style>\n",
       "<table border=\"1\" class=\"dataframe\">\n",
       "  <thead>\n",
       "    <tr style=\"text-align: right;\">\n",
       "      <th>delay_15</th>\n",
       "      <th>False</th>\n",
       "      <th>True</th>\n",
       "    </tr>\n",
       "    <tr>\n",
       "      <th>period_day</th>\n",
       "      <th></th>\n",
       "      <th></th>\n",
       "    </tr>\n",
       "  </thead>\n",
       "  <tbody>\n",
       "    <tr>\n",
       "      <th>morning</th>\n",
       "      <td>0.838027</td>\n",
       "      <td>0.161973</td>\n",
       "    </tr>\n",
       "    <tr>\n",
       "      <th>night</th>\n",
       "      <td>0.799977</td>\n",
       "      <td>0.200023</td>\n",
       "    </tr>\n",
       "    <tr>\n",
       "      <th>afternoon</th>\n",
       "      <td>0.797004</td>\n",
       "      <td>0.202996</td>\n",
       "    </tr>\n",
       "  </tbody>\n",
       "</table>\n",
       "</div>"
      ],
      "text/plain": [
       "delay_15       False      True\n",
       "period_day                    \n",
       "morning     0.838027  0.161973\n",
       "night       0.799977  0.200023\n",
       "afternoon   0.797004  0.202996"
      ]
     },
     "execution_count": 12,
     "metadata": {},
     "output_type": "execute_result"
    }
   ],
   "source": [
    "(df.groupby([var,'delay_15'])['Fecha-I'].count()/df.groupby([var])['Fecha-I'].count()).unstack().sort_values(by=[True])"
   ]
  },
  {
   "cell_type": "code",
   "execution_count": 13,
   "id": "e3ed6cfc",
   "metadata": {
    "execution": {
     "iopub.execute_input": "2022-12-18T01:51:53.960030Z",
     "iopub.status.busy": "2022-12-18T01:51:53.959539Z",
     "iopub.status.idle": "2022-12-18T01:52:01.934667Z",
     "shell.execute_reply": "2022-12-18T01:52:01.933535Z"
    },
    "papermill": {
     "duration": 7.995137,
     "end_time": "2022-12-18T01:52:01.937537",
     "exception": false,
     "start_time": "2022-12-18T01:51:53.942400",
     "status": "completed"
    },
    "tags": []
   },
   "outputs": [
    {
     "data": {
      "image/png": "[encoded data removed]",
      "text/plain": [
       "<Figure size 4752x360 with 1 Axes>"
      ]
     },
     "metadata": {
      "needs_background": "light"
     },
     "output_type": "display_data"
    },
    {
     "data": {
      "image/png": "[encoded data removed]",
      "text/plain": [
       "<Figure size 2304x360 with 1 Axes>"
      ]
     },
     "metadata": {
      "needs_background": "light"
     },
     "output_type": "display_data"
    },
    {
     "data": {
      "image/png": "[encoded data removed]",
      "text/plain": [
       "<Figure size 4680x360 with 1 Axes>"
      ]
     },
     "metadata": {
      "needs_background": "light"
     },
     "output_type": "display_data"
    },
    {
     "data": {
      "image/png": "[encoded data removed]",
      "text/plain": [
       "<Figure size 2448x360 with 1 Axes>"
      ]
     },
     "metadata": {
      "needs_background": "light"
     },
     "output_type": "display_data"
    },
    {
     "data": {
      "image/png": "[encoded data removed]",
      "text/plain": [
       "<Figure size 2376x360 with 1 Axes>"
      ]
     },
     "metadata": {
      "needs_background": "light"
     },
     "output_type": "display_data"
    },
    {
     "data": {
      "image/png": "[encoded data removed]",
      "text/plain": [
       "<Figure size 1008x360 with 1 Axes>"
      ]
     },
     "metadata": {
      "needs_background": "light"
     },
     "output_type": "display_data"
    },
    {
     "data": {
      "image/png": "[encoded data removed]",
      "text/plain": [
       "<Figure size 288x360 with 1 Axes>"
      ]
     },
     "metadata": {
      "needs_background": "light"
     },
     "output_type": "display_data"
    },
    {
     "data": {
      "image/png": "[encoded data removed]",
      "text/plain": [
       "<Figure size 648x360 with 1 Axes>"
      ]
     },
     "metadata": {
      "needs_background": "light"
     },
     "output_type": "display_data"
    },
    {
     "data": {
      "image/png": "[encoded data removed]",
      "text/plain": [
       "<Figure size 288x360 with 1 Axes>"
      ]
     },
     "metadata": {
      "needs_background": "light"
     },
     "output_type": "display_data"
    },
    {
     "data": {
      "image/png": "[encoded data removed]",
      "text/plain": [
       "<Figure size 1800x360 with 1 Axes>"
      ]
     },
     "metadata": {
      "needs_background": "light"
     },
     "output_type": "display_data"
    },
    {
     "data": {
      "image/png": "[encoded data removed]",
      "text/plain": [
       "<Figure size 216x360 with 1 Axes>"
      ]
     },
     "metadata": {
      "needs_background": "light"
     },
     "output_type": "display_data"
    },
    {
     "data": {
      "image/png": "[encoded data removed]",
      "text/plain": [
       "<Figure size 4608x360 with 1 Axes>"
      ]
     },
     "metadata": {
      "needs_background": "light"
     },
     "output_type": "display_data"
    },
    {
     "data": {
      "image/png": "[encoded data removed]",
      "text/plain": [
       "<Figure size 288x360 with 1 Axes>"
      ]
     },
     "metadata": {
      "needs_background": "light"
     },
     "output_type": "display_data"
    },
    {
     "data": {
      "image/png": "[encoded data removed]",
      "text/plain": [
       "<Figure size 288x360 with 1 Axes>"
      ]
     },
     "metadata": {
      "needs_background": "light"
     },
     "output_type": "display_data"
    },
    {
     "data": {
      "image/png": "[encoded data removed]",
      "text/plain": [
       "<Figure size 360x360 with 1 Axes>"
      ]
     },
     "metadata": {
      "needs_background": "light"
     },
     "output_type": "display_data"
    }
   ],
   "source": [
    "#First challenge - how is the data distributed?\n",
    "\n",
    "for var in df.columns:\n",
    "    if var not in ['Fecha-I','Fecha-O','Vlo-I','Vlo-O','Ori-O','Ori-I','delay_15','min_diff']:\n",
    "        dif_clases=df[var].nunique()\n",
    "        ax=(df.groupby([var,'delay_15'])['Fecha-I'].count()/df.groupby([var])['Fecha-I'].count()).unstack().sort_values(by=True).plot.bar(stacked=True,figsize=((int((dif_clases+4/2)),5)))\n",
    "        for p in ax.patches:\n",
    "            height = p.get_height()\n",
    "            if np.isnan(height):\n",
    "                height = 0\n",
    "            if height <= 0.5:\n",
    "                ax.text(p.get_x() + p.get_width()/2., height+0.1, f'{int((1-height)*100)}%', \n",
    "                    fontsize=14, color='black', ha='center', va='bottom')\n",
    "        plt.title(var)\n",
    "        plt.show()"
   ]
  },
  {
   "cell_type": "code",
   "execution_count": 14,
   "id": "9faaecea",
   "metadata": {
    "execution": {
     "iopub.execute_input": "2022-12-18T01:52:01.993188Z",
     "iopub.status.busy": "2022-12-18T01:52:01.992415Z",
     "iopub.status.idle": "2022-12-18T01:52:01.998241Z",
     "shell.execute_reply": "2022-12-18T01:52:01.997085Z"
    },
    "papermill": {
     "duration": 0.03623,
     "end_time": "2022-12-18T01:52:02.001093",
     "exception": false,
     "start_time": "2022-12-18T01:52:01.964863",
     "status": "completed"
    },
    "tags": []
   },
   "outputs": [],
   "source": [
    "# Considerations for alone distribution of variables \n",
    "\n",
    "#Some drivers to the study\n",
    "\n",
    "# There is correlation expected between airlines and cities \n",
    "# see correlation between Emp-O and OPERA (can I group these and see make a flag if they are the same?)\n",
    "# we have small peaks of delay on the days:  10,11,15 (?) maybe because of sallary? see correlation between day/month\n",
    "# new high season makes more sense\n",
    "# flights in the morning has less chance of delay or is it the companies that have more flights in the morning that has less delay?\n"
   ]
  },
  {
   "cell_type": "code",
   "execution_count": 15,
   "id": "04f61429",
   "metadata": {
    "execution": {
     "iopub.execute_input": "2022-12-18T01:52:02.056259Z",
     "iopub.status.busy": "2022-12-18T01:52:02.055476Z",
     "iopub.status.idle": "2022-12-18T01:52:02.081180Z",
     "shell.execute_reply": "2022-12-18T01:52:02.080171Z"
    },
    "papermill": {
     "duration": 0.055584,
     "end_time": "2022-12-18T01:52:02.083902",
     "exception": false,
     "start_time": "2022-12-18T01:52:02.028318",
     "status": "completed"
    },
    "tags": []
   },
   "outputs": [],
   "source": [
    "df.sort_values(by=['Fecha-I'],inplace=True)\n",
    "df.set_index('Fecha-I',inplace=True)"
   ]
  },
  {
   "cell_type": "code",
   "execution_count": 16,
   "id": "09a314a1",
   "metadata": {
    "execution": {
     "iopub.execute_input": "2022-12-18T01:52:02.137116Z",
     "iopub.status.busy": "2022-12-18T01:52:02.136358Z",
     "iopub.status.idle": "2022-12-18T01:52:02.415847Z",
     "shell.execute_reply": "2022-12-18T01:52:02.414418Z"
    },
    "papermill": {
     "duration": 0.309946,
     "end_time": "2022-12-18T01:52:02.419077",
     "exception": false,
     "start_time": "2022-12-18T01:52:02.109131",
     "status": "completed"
    },
    "tags": []
   },
   "outputs": [],
   "source": [
    "#check if previous flights can impact the actual flight\n",
    "#the features of delay_last and perc_delay is only fair if we are predicting on the moment of flight\n",
    "#the qtd_flights can be calculated before and is fair to use on the model\n",
    "df['delay_previous_flight']=df['delay_15'].shift(1).astype(bool)\n",
    "for h in [1,2,4,6,12,18,24]:\n",
    "    df[f'delay_last_{h}h']=df['delay_15'].shift(1).rolling(f'{h}h').sum()\n",
    "    df[f'qtd_flights_{h}h']=df['delay_15'].shift(1).rolling(f'{h}h').count()\n",
    "    df[f'perc_delay_{h}h']=df['delay_15'].shift(1).rolling(f'{h}h').sum()/df['delay_15'].shift(1).rolling(f'{h}h').count()"
   ]
  },
  {
   "cell_type": "code",
   "execution_count": 17,
   "id": "e1a43392",
   "metadata": {
    "execution": {
     "iopub.execute_input": "2022-12-18T01:52:02.474365Z",
     "iopub.status.busy": "2022-12-18T01:52:02.473557Z",
     "iopub.status.idle": "2022-12-18T01:52:02.484963Z",
     "shell.execute_reply": "2022-12-18T01:52:02.483909Z"
    },
    "papermill": {
     "duration": 0.041776,
     "end_time": "2022-12-18T01:52:02.487668",
     "exception": false,
     "start_time": "2022-12-18T01:52:02.445892",
     "status": "completed"
    },
    "tags": []
   },
   "outputs": [
    {
     "data": {
      "text/plain": [
       "False    0.81506\n",
       "True     0.18494\n",
       "Name: delay_15, dtype: float64"
      ]
     },
     "execution_count": 17,
     "metadata": {},
     "output_type": "execute_result"
    }
   ],
   "source": [
    "df['delay_15'].value_counts(normalize=True)"
   ]
  },
  {
   "cell_type": "code",
   "execution_count": 18,
   "id": "62c35450",
   "metadata": {
    "execution": {
     "iopub.execute_input": "2022-12-18T01:52:02.541321Z",
     "iopub.status.busy": "2022-12-18T01:52:02.540401Z",
     "iopub.status.idle": "2022-12-18T01:52:02.566286Z",
     "shell.execute_reply": "2022-12-18T01:52:02.565062Z"
    },
    "papermill": {
     "duration": 0.055523,
     "end_time": "2022-12-18T01:52:02.568896",
     "exception": false,
     "start_time": "2022-12-18T01:52:02.513373",
     "status": "completed"
    },
    "tags": []
   },
   "outputs": [
    {
     "data": {
      "text/html": [
       "<div>\n",
       "<style scoped>\n",
       "    .dataframe tbody tr th:only-of-type {\n",
       "        vertical-align: middle;\n",
       "    }\n",
       "\n",
       "    .dataframe tbody tr th {\n",
       "        vertical-align: top;\n",
       "    }\n",
       "\n",
       "    .dataframe thead th {\n",
       "        text-align: right;\n",
       "    }\n",
       "</style>\n",
       "<table border=\"1\" class=\"dataframe\">\n",
       "  <thead>\n",
       "    <tr style=\"text-align: right;\">\n",
       "      <th>delay_previous_flight</th>\n",
       "      <th>False</th>\n",
       "      <th>True</th>\n",
       "    </tr>\n",
       "    <tr>\n",
       "      <th>delay_15</th>\n",
       "      <th></th>\n",
       "      <th></th>\n",
       "    </tr>\n",
       "  </thead>\n",
       "  <tbody>\n",
       "    <tr>\n",
       "      <th>False</th>\n",
       "      <td>83.107282</td>\n",
       "      <td>16.892718</td>\n",
       "    </tr>\n",
       "    <tr>\n",
       "      <th>True</th>\n",
       "      <td>74.441097</td>\n",
       "      <td>25.558903</td>\n",
       "    </tr>\n",
       "  </tbody>\n",
       "</table>\n",
       "</div>"
      ],
      "text/plain": [
       "delay_previous_flight      False       True\n",
       "delay_15                                   \n",
       "False                  83.107282  16.892718\n",
       "True                   74.441097  25.558903"
      ]
     },
     "execution_count": 18,
     "metadata": {},
     "output_type": "execute_result"
    }
   ],
   "source": [
    "df.groupby(['delay_15','delay_previous_flight'])['Fecha-O'].count().groupby(level=0).apply(lambda x:\n",
    "                                                 100 * x / float(x.sum())).unstack()\n",
    "#We have 18.49% delayed flights and 25.5% of those delayed flights had a flight with delay before\n",
    "#but on the other hand, 16.89% of flights with delay before did not have delay"
   ]
  },
  {
   "cell_type": "code",
   "execution_count": 19,
   "id": "1d2d8975",
   "metadata": {
    "execution": {
     "iopub.execute_input": "2022-12-18T01:52:02.622534Z",
     "iopub.status.busy": "2022-12-18T01:52:02.620991Z",
     "iopub.status.idle": "2022-12-18T01:52:02.665869Z",
     "shell.execute_reply": "2022-12-18T01:52:02.664083Z"
    },
    "papermill": {
     "duration": 0.074737,
     "end_time": "2022-12-18T01:52:02.668654",
     "exception": false,
     "start_time": "2022-12-18T01:52:02.593917",
     "status": "completed"
    },
    "tags": []
   },
   "outputs": [
    {
     "name": "stdout",
     "output_type": "stream",
     "text": [
      "['Plus Ultra Lineas Aereas', 'Qantas Airways', 'Air Canada', 'Latin American Wings', 'Gol Trans'] ['Plus Ultra Lineas Aereas', 'Qantas Airways', 'Air Canada', 'Latin American Wings', 'Gol Trans', 'Avianca', 'Aerolineas Argentinas', 'Austral', 'JetSmart SPA', 'Grupo LATAM']\n"
     ]
    },
    {
     "data": {
      "text/html": [
       "<div>\n",
       "<style scoped>\n",
       "    .dataframe tbody tr th:only-of-type {\n",
       "        vertical-align: middle;\n",
       "    }\n",
       "\n",
       "    .dataframe tbody tr th {\n",
       "        vertical-align: top;\n",
       "    }\n",
       "\n",
       "    .dataframe thead th {\n",
       "        text-align: right;\n",
       "    }\n",
       "</style>\n",
       "<table border=\"1\" class=\"dataframe\">\n",
       "  <thead>\n",
       "    <tr style=\"text-align: right;\">\n",
       "      <th>delay_15</th>\n",
       "      <th>False</th>\n",
       "      <th>True</th>\n",
       "    </tr>\n",
       "    <tr>\n",
       "      <th>OPERA</th>\n",
       "      <th></th>\n",
       "      <th></th>\n",
       "    </tr>\n",
       "  </thead>\n",
       "  <tbody>\n",
       "    <tr>\n",
       "      <th>Plus Ultra Lineas Aereas</th>\n",
       "      <td>38.775510</td>\n",
       "      <td>61.224490</td>\n",
       "    </tr>\n",
       "    <tr>\n",
       "      <th>Qantas Airways</th>\n",
       "      <td>42.051282</td>\n",
       "      <td>57.948718</td>\n",
       "    </tr>\n",
       "    <tr>\n",
       "      <th>Air Canada</th>\n",
       "      <td>54.336283</td>\n",
       "      <td>45.663717</td>\n",
       "    </tr>\n",
       "    <tr>\n",
       "      <th>Latin American Wings</th>\n",
       "      <td>59.318996</td>\n",
       "      <td>40.681004</td>\n",
       "    </tr>\n",
       "    <tr>\n",
       "      <th>Gol Trans</th>\n",
       "      <td>64.392060</td>\n",
       "      <td>35.607940</td>\n",
       "    </tr>\n",
       "    <tr>\n",
       "      <th>Avianca</th>\n",
       "      <td>73.437500</td>\n",
       "      <td>26.562500</td>\n",
       "    </tr>\n",
       "    <tr>\n",
       "      <th>Aerolineas Argentinas</th>\n",
       "      <td>75.987686</td>\n",
       "      <td>24.012314</td>\n",
       "    </tr>\n",
       "    <tr>\n",
       "      <th>Austral</th>\n",
       "      <td>79.729730</td>\n",
       "      <td>20.270270</td>\n",
       "    </tr>\n",
       "    <tr>\n",
       "      <th>JetSmart SPA</th>\n",
       "      <td>82.100457</td>\n",
       "      <td>17.899543</td>\n",
       "    </tr>\n",
       "    <tr>\n",
       "      <th>Grupo LATAM</th>\n",
       "      <td>82.133425</td>\n",
       "      <td>17.866575</td>\n",
       "    </tr>\n",
       "    <tr>\n",
       "      <th>Sky Airline</th>\n",
       "      <td>82.235278</td>\n",
       "      <td>17.764722</td>\n",
       "    </tr>\n",
       "    <tr>\n",
       "      <th>Oceanair Linhas Aereas</th>\n",
       "      <td>84.587814</td>\n",
       "      <td>15.412186</td>\n",
       "    </tr>\n",
       "    <tr>\n",
       "      <th>British Airways</th>\n",
       "      <td>85.853659</td>\n",
       "      <td>14.146341</td>\n",
       "    </tr>\n",
       "    <tr>\n",
       "      <th>Lacsa</th>\n",
       "      <td>88.043478</td>\n",
       "      <td>11.956522</td>\n",
       "    </tr>\n",
       "    <tr>\n",
       "      <th>Alitalia</th>\n",
       "      <td>88.803089</td>\n",
       "      <td>11.196911</td>\n",
       "    </tr>\n",
       "    <tr>\n",
       "      <th>Iberia</th>\n",
       "      <td>90.055249</td>\n",
       "      <td>9.944751</td>\n",
       "    </tr>\n",
       "    <tr>\n",
       "      <th>Air France</th>\n",
       "      <td>91.620112</td>\n",
       "      <td>8.379888</td>\n",
       "    </tr>\n",
       "    <tr>\n",
       "      <th>K.L.M.</th>\n",
       "      <td>91.633466</td>\n",
       "      <td>8.366534</td>\n",
       "    </tr>\n",
       "    <tr>\n",
       "      <th>American Airlines</th>\n",
       "      <td>93.262880</td>\n",
       "      <td>6.737120</td>\n",
       "    </tr>\n",
       "    <tr>\n",
       "      <th>Copa Air</th>\n",
       "      <td>93.729730</td>\n",
       "      <td>6.270270</td>\n",
       "    </tr>\n",
       "    <tr>\n",
       "      <th>Delta Air</th>\n",
       "      <td>94.134078</td>\n",
       "      <td>5.865922</td>\n",
       "    </tr>\n",
       "    <tr>\n",
       "      <th>United Airlines</th>\n",
       "      <td>94.925373</td>\n",
       "      <td>5.074627</td>\n",
       "    </tr>\n",
       "    <tr>\n",
       "      <th>Aeromexico</th>\n",
       "      <td>97.150997</td>\n",
       "      <td>2.849003</td>\n",
       "    </tr>\n",
       "  </tbody>\n",
       "</table>\n",
       "</div>"
      ],
      "text/plain": [
       "delay_15                      False       True\n",
       "OPERA                                         \n",
       "Plus Ultra Lineas Aereas  38.775510  61.224490\n",
       "Qantas Airways            42.051282  57.948718\n",
       "Air Canada                54.336283  45.663717\n",
       "Latin American Wings      59.318996  40.681004\n",
       "Gol Trans                 64.392060  35.607940\n",
       "Avianca                   73.437500  26.562500\n",
       "Aerolineas Argentinas     75.987686  24.012314\n",
       "Austral                   79.729730  20.270270\n",
       "JetSmart SPA              82.100457  17.899543\n",
       "Grupo LATAM               82.133425  17.866575\n",
       "Sky Airline               82.235278  17.764722\n",
       "Oceanair Linhas Aereas    84.587814  15.412186\n",
       "British Airways           85.853659  14.146341\n",
       "Lacsa                     88.043478  11.956522\n",
       "Alitalia                  88.803089  11.196911\n",
       "Iberia                    90.055249   9.944751\n",
       "Air France                91.620112   8.379888\n",
       "K.L.M.                    91.633466   8.366534\n",
       "American Airlines         93.262880   6.737120\n",
       "Copa Air                  93.729730   6.270270\n",
       "Delta Air                 94.134078   5.865922\n",
       "United Airlines           94.925373   5.074627\n",
       "Aeromexico                97.150997   2.849003"
      ]
     },
     "execution_count": 19,
     "metadata": {},
     "output_type": "execute_result"
    }
   ],
   "source": [
    "#what if we use high delay airline companies before the flight?\n",
    "\n",
    "#what are the top airline companies that have most percentage of delay?\n",
    "top_delay_companies_perc=df.groupby(['OPERA','delay_15'])['Fecha-O'].count().groupby(level=0).apply(lambda x:\n",
    "                                                 100 * x / float(x.sum())).unstack().sort_values(by=True,ascending=[False])\n",
    "comp_delay_5=list(top_delay_companies_perc.head(5).index.values)\n",
    "comp_delay_10=list(top_delay_companies_perc.head(10).index.values)\n",
    "print(comp_delay_5,comp_delay_10)\n",
    "top_delay_companies_perc"
   ]
  },
  {
   "cell_type": "code",
   "execution_count": 20,
   "id": "7bdd1aec",
   "metadata": {
    "execution": {
     "iopub.execute_input": "2022-12-18T01:52:02.721220Z",
     "iopub.status.busy": "2022-12-18T01:52:02.720698Z",
     "iopub.status.idle": "2022-12-18T01:52:02.764106Z",
     "shell.execute_reply": "2022-12-18T01:52:02.762667Z"
    },
    "papermill": {
     "duration": 0.072775,
     "end_time": "2022-12-18T01:52:02.766761",
     "exception": false,
     "start_time": "2022-12-18T01:52:02.693986",
     "status": "completed"
    },
    "tags": []
   },
   "outputs": [
    {
     "data": {
      "text/plain": [
       "Fecha-I\n",
       "2017-01-01 02:05:00    NaN\n",
       "2017-01-01 06:10:00    0.0\n",
       "2017-01-01 11:00:00    0.0\n",
       "2017-01-01 13:35:00    0.0\n",
       "2017-01-01 13:35:00    1.0\n",
       "                      ... \n",
       "2017-12-31 15:00:00    1.0\n",
       "2017-12-31 16:30:00    0.0\n",
       "2017-12-31 17:30:00    0.0\n",
       "2017-12-31 21:10:00    0.0\n",
       "2017-12-31 22:00:00    1.0\n",
       "Name: delay_15, Length: 3289, dtype: float64"
      ]
     },
     "execution_count": 20,
     "metadata": {},
     "output_type": "execute_result"
    }
   ],
   "source": [
    "df[df['OPERA'].isin(comp_delay_5)]['delay_15'].shift(1).rolling('1h').sum()"
   ]
  },
  {
   "cell_type": "code",
   "execution_count": 21,
   "id": "fb361168",
   "metadata": {
    "execution": {
     "iopub.execute_input": "2022-12-18T01:52:02.820231Z",
     "iopub.status.busy": "2022-12-18T01:52:02.819668Z",
     "iopub.status.idle": "2022-12-18T01:52:02.842795Z",
     "shell.execute_reply": "2022-12-18T01:52:02.840816Z"
    },
    "papermill": {
     "duration": 0.053658,
     "end_time": "2022-12-18T01:52:02.846033",
     "exception": false,
     "start_time": "2022-12-18T01:52:02.792375",
     "status": "completed"
    },
    "tags": []
   },
   "outputs": [],
   "source": [
    "df['is_top_5_airlines_delay']=(df['OPERA'].isin(comp_delay_5)).astype(bool)\n",
    "df['is_top_10_airlines_delay']=(df['OPERA'].isin(comp_delay_10)).astype(bool)\n",
    "df['is_top_5_airlines_delay_and_delay_15']=((df['OPERA'].isin(comp_delay_5))&(df['delay_15'])).astype(bool)\n",
    "df['is_top_10_airlines_delay_and_delay_15']=((df['OPERA'].isin(comp_delay_10))&(df['delay_15'])).astype(bool)"
   ]
  },
  {
   "cell_type": "code",
   "execution_count": null,
   "id": "e13c0f2d",
   "metadata": {
    "papermill": {
     "duration": 0.036338,
     "end_time": "2022-12-18T01:52:02.912380",
     "exception": false,
     "start_time": "2022-12-18T01:52:02.876042",
     "status": "completed"
    },
    "tags": []
   },
   "outputs": [],
   "source": []
  },
  {
   "cell_type": "code",
   "execution_count": 22,
   "id": "efa17a21",
   "metadata": {
    "execution": {
     "iopub.execute_input": "2022-12-18T01:52:02.974112Z",
     "iopub.status.busy": "2022-12-18T01:52:02.973660Z",
     "iopub.status.idle": "2022-12-18T01:52:03.213687Z",
     "shell.execute_reply": "2022-12-18T01:52:03.212363Z"
    },
    "papermill": {
     "duration": 0.273483,
     "end_time": "2022-12-18T01:52:03.216506",
     "exception": false,
     "start_time": "2022-12-18T01:52:02.943023",
     "status": "completed"
    },
    "tags": []
   },
   "outputs": [],
   "source": [
    "for h in [1,2,4,6,12,18,24]:\n",
    "    for var in ['is_top_5_airlines_delay','is_top_10_airlines_delay',\n",
    "               'is_top_5_airlines_delay_and_delay_15','is_top_10_airlines_delay_and_delay_15']:\n",
    "        df[f'qtd_flights_{var}_{h}h']=df[var].shift(1).rolling(f'{h}h').sum()"
   ]
  },
  {
   "cell_type": "code",
   "execution_count": 23,
   "id": "9fc79749",
   "metadata": {
    "execution": {
     "iopub.execute_input": "2022-12-18T01:52:03.267974Z",
     "iopub.status.busy": "2022-12-18T01:52:03.267458Z",
     "iopub.status.idle": "2022-12-18T01:52:03.282310Z",
     "shell.execute_reply": "2022-12-18T01:52:03.281034Z"
    },
    "papermill": {
     "duration": 0.043858,
     "end_time": "2022-12-18T01:52:03.285016",
     "exception": false,
     "start_time": "2022-12-18T01:52:03.241158",
     "status": "completed"
    },
    "tags": []
   },
   "outputs": [
    {
     "data": {
      "text/plain": [
       "['DIA',\n",
       " 'MES',\n",
       " 'AÑO',\n",
       " 'high_season',\n",
       " 'high_season_2',\n",
       " 'delay_previous_flight',\n",
       " 'delay_last_1h',\n",
       " 'qtd_flights_1h',\n",
       " 'perc_delay_1h',\n",
       " 'delay_last_2h',\n",
       " 'qtd_flights_2h',\n",
       " 'perc_delay_2h',\n",
       " 'delay_last_4h',\n",
       " 'qtd_flights_4h',\n",
       " 'perc_delay_4h',\n",
       " 'delay_last_6h',\n",
       " 'qtd_flights_6h',\n",
       " 'perc_delay_6h',\n",
       " 'delay_last_12h',\n",
       " 'qtd_flights_12h',\n",
       " 'perc_delay_12h',\n",
       " 'delay_last_18h',\n",
       " 'qtd_flights_18h',\n",
       " 'perc_delay_18h',\n",
       " 'delay_last_24h',\n",
       " 'qtd_flights_24h',\n",
       " 'perc_delay_24h',\n",
       " 'is_top_5_airlines_delay',\n",
       " 'is_top_10_airlines_delay',\n",
       " 'qtd_flights_is_top_5_airlines_delay_1h',\n",
       " 'qtd_flights_is_top_10_airlines_delay_1h',\n",
       " 'qtd_flights_is_top_5_airlines_delay_and_delay_15_1h',\n",
       " 'qtd_flights_is_top_10_airlines_delay_and_delay_15_1h',\n",
       " 'qtd_flights_is_top_5_airlines_delay_2h',\n",
       " 'qtd_flights_is_top_10_airlines_delay_2h',\n",
       " 'qtd_flights_is_top_5_airlines_delay_and_delay_15_2h',\n",
       " 'qtd_flights_is_top_10_airlines_delay_and_delay_15_2h',\n",
       " 'qtd_flights_is_top_5_airlines_delay_4h',\n",
       " 'qtd_flights_is_top_10_airlines_delay_4h',\n",
       " 'qtd_flights_is_top_5_airlines_delay_and_delay_15_4h',\n",
       " 'qtd_flights_is_top_10_airlines_delay_and_delay_15_4h',\n",
       " 'qtd_flights_is_top_5_airlines_delay_6h',\n",
       " 'qtd_flights_is_top_10_airlines_delay_6h',\n",
       " 'qtd_flights_is_top_5_airlines_delay_and_delay_15_6h',\n",
       " 'qtd_flights_is_top_10_airlines_delay_and_delay_15_6h',\n",
       " 'qtd_flights_is_top_5_airlines_delay_12h',\n",
       " 'qtd_flights_is_top_10_airlines_delay_12h',\n",
       " 'qtd_flights_is_top_5_airlines_delay_and_delay_15_12h',\n",
       " 'qtd_flights_is_top_10_airlines_delay_and_delay_15_12h',\n",
       " 'qtd_flights_is_top_5_airlines_delay_18h',\n",
       " 'qtd_flights_is_top_10_airlines_delay_18h',\n",
       " 'qtd_flights_is_top_5_airlines_delay_and_delay_15_18h',\n",
       " 'qtd_flights_is_top_10_airlines_delay_and_delay_15_18h',\n",
       " 'qtd_flights_is_top_5_airlines_delay_24h',\n",
       " 'qtd_flights_is_top_10_airlines_delay_24h',\n",
       " 'qtd_flights_is_top_5_airlines_delay_and_delay_15_24h',\n",
       " 'qtd_flights_is_top_10_airlines_delay_and_delay_15_24h']"
      ]
     },
     "execution_count": 23,
     "metadata": {},
     "output_type": "execute_result"
    }
   ],
   "source": [
    "features_no_cat_col=[feat for feat in df.columns if df[feat].dtype not in [\"object\",\"category\"] and \n",
    "          feat not in ['delay_15','min_diff','Fecha-O','is_top_5_airlines_delay_and_delay_15',\n",
    "                      'is_top_10_airlines_delay_and_delay_15']]\n",
    "# delay_15/min_diff and the is_top_5/is_top_10 with delay_15 are correlated with delay_15 and must be excluded of features\n",
    "features_no_cat_col"
   ]
  },
  {
   "cell_type": "code",
   "execution_count": 24,
   "id": "b5b335e0",
   "metadata": {
    "execution": {
     "iopub.execute_input": "2022-12-18T01:52:03.336500Z",
     "iopub.status.busy": "2022-12-18T01:52:03.336107Z",
     "iopub.status.idle": "2022-12-18T01:52:03.399481Z",
     "shell.execute_reply": "2022-12-18T01:52:03.398181Z"
    },
    "papermill": {
     "duration": 0.092388,
     "end_time": "2022-12-18T01:52:03.402524",
     "exception": false,
     "start_time": "2022-12-18T01:52:03.310136",
     "status": "completed"
    },
    "tags": []
   },
   "outputs": [],
   "source": [
    "df2=df[df.index>=pd.to_datetime('2017-01-02')]"
   ]
  },
  {
   "cell_type": "code",
   "execution_count": 25,
   "id": "875a3d1e",
   "metadata": {
    "execution": {
     "iopub.execute_input": "2022-12-18T01:52:03.454519Z",
     "iopub.status.busy": "2022-12-18T01:52:03.454094Z",
     "iopub.status.idle": "2022-12-18T01:52:03.564788Z",
     "shell.execute_reply": "2022-12-18T01:52:03.563279Z"
    },
    "papermill": {
     "duration": 0.140089,
     "end_time": "2022-12-18T01:52:03.567759",
     "exception": false,
     "start_time": "2022-12-18T01:52:03.427670",
     "status": "completed"
    },
    "tags": []
   },
   "outputs": [
    {
     "name": "stderr",
     "output_type": "stream",
     "text": [
      "/opt/conda/lib/python3.7/site-packages/ipykernel_launcher.py:1: FutureWarning: Comparison of Timestamp with datetime.date is deprecated in order to match the standard library behavior.  In a future version these will be considered non-comparable.Use 'ts == pd.Timestamp(date)' or 'ts.date() == date' instead.\n",
      "  \"\"\"Entry point for launching an IPython kernel.\n"
     ]
    },
    {
     "data": {
      "text/html": [
       "<div>\n",
       "<style scoped>\n",
       "    .dataframe tbody tr th:only-of-type {\n",
       "        vertical-align: middle;\n",
       "    }\n",
       "\n",
       "    .dataframe tbody tr th {\n",
       "        vertical-align: top;\n",
       "    }\n",
       "\n",
       "    .dataframe thead th {\n",
       "        text-align: right;\n",
       "    }\n",
       "</style>\n",
       "<table border=\"1\" class=\"dataframe\">\n",
       "  <thead>\n",
       "    <tr style=\"text-align: right;\">\n",
       "      <th></th>\n",
       "      <th>OPERA</th>\n",
       "      <th>is_top_10_airlines_delay_and_delay_15</th>\n",
       "      <th>delay_15</th>\n",
       "    </tr>\n",
       "    <tr>\n",
       "      <th>Fecha-I</th>\n",
       "      <th></th>\n",
       "      <th></th>\n",
       "      <th></th>\n",
       "    </tr>\n",
       "  </thead>\n",
       "  <tbody>\n",
       "    <tr>\n",
       "      <th>2017-03-05 00:35:00</th>\n",
       "      <td>Grupo LATAM</td>\n",
       "      <td>True</td>\n",
       "      <td>True</td>\n",
       "    </tr>\n",
       "    <tr>\n",
       "      <th>2017-03-05 01:15:00</th>\n",
       "      <td>Latin American Wings</td>\n",
       "      <td>True</td>\n",
       "      <td>True</td>\n",
       "    </tr>\n",
       "    <tr>\n",
       "      <th>2017-03-05 01:32:00</th>\n",
       "      <td>Copa Air</td>\n",
       "      <td>False</td>\n",
       "      <td>False</td>\n",
       "    </tr>\n",
       "    <tr>\n",
       "      <th>2017-03-05 01:33:00</th>\n",
       "      <td>Avianca</td>\n",
       "      <td>False</td>\n",
       "      <td>False</td>\n",
       "    </tr>\n",
       "    <tr>\n",
       "      <th>2017-03-05 01:40:00</th>\n",
       "      <td>Grupo LATAM</td>\n",
       "      <td>False</td>\n",
       "      <td>False</td>\n",
       "    </tr>\n",
       "    <tr>\n",
       "      <th>2017-03-05 03:05:00</th>\n",
       "      <td>Gol Trans</td>\n",
       "      <td>False</td>\n",
       "      <td>False</td>\n",
       "    </tr>\n",
       "    <tr>\n",
       "      <th>2017-03-05 03:21:00</th>\n",
       "      <td>Copa Air</td>\n",
       "      <td>False</td>\n",
       "      <td>False</td>\n",
       "    </tr>\n",
       "    <tr>\n",
       "      <th>2017-03-05 03:25:00</th>\n",
       "      <td>Grupo LATAM</td>\n",
       "      <td>False</td>\n",
       "      <td>False</td>\n",
       "    </tr>\n",
       "    <tr>\n",
       "      <th>2017-03-05 04:35:00</th>\n",
       "      <td>Grupo LATAM</td>\n",
       "      <td>False</td>\n",
       "      <td>False</td>\n",
       "    </tr>\n",
       "    <tr>\n",
       "      <th>2017-03-05 04:55:00</th>\n",
       "      <td>Grupo LATAM</td>\n",
       "      <td>False</td>\n",
       "      <td>False</td>\n",
       "    </tr>\n",
       "    <tr>\n",
       "      <th>2017-03-05 05:10:00</th>\n",
       "      <td>Grupo LATAM</td>\n",
       "      <td>False</td>\n",
       "      <td>False</td>\n",
       "    </tr>\n",
       "    <tr>\n",
       "      <th>2017-03-05 05:20:00</th>\n",
       "      <td>Sky Airline</td>\n",
       "      <td>False</td>\n",
       "      <td>False</td>\n",
       "    </tr>\n",
       "    <tr>\n",
       "      <th>2017-03-05 05:30:00</th>\n",
       "      <td>Grupo LATAM</td>\n",
       "      <td>False</td>\n",
       "      <td>False</td>\n",
       "    </tr>\n",
       "    <tr>\n",
       "      <th>2017-03-05 05:30:00</th>\n",
       "      <td>Grupo LATAM</td>\n",
       "      <td>False</td>\n",
       "      <td>False</td>\n",
       "    </tr>\n",
       "    <tr>\n",
       "      <th>2017-03-05 05:35:00</th>\n",
       "      <td>Sky Airline</td>\n",
       "      <td>False</td>\n",
       "      <td>False</td>\n",
       "    </tr>\n",
       "    <tr>\n",
       "      <th>2017-03-05 05:55:00</th>\n",
       "      <td>Sky Airline</td>\n",
       "      <td>False</td>\n",
       "      <td>False</td>\n",
       "    </tr>\n",
       "    <tr>\n",
       "      <th>2017-03-05 06:05:00</th>\n",
       "      <td>Sky Airline</td>\n",
       "      <td>False</td>\n",
       "      <td>False</td>\n",
       "    </tr>\n",
       "    <tr>\n",
       "      <th>2017-03-05 06:25:00</th>\n",
       "      <td>Sky Airline</td>\n",
       "      <td>False</td>\n",
       "      <td>False</td>\n",
       "    </tr>\n",
       "    <tr>\n",
       "      <th>2017-03-05 06:30:00</th>\n",
       "      <td>Sky Airline</td>\n",
       "      <td>False</td>\n",
       "      <td>False</td>\n",
       "    </tr>\n",
       "    <tr>\n",
       "      <th>2017-03-05 06:35:00</th>\n",
       "      <td>Grupo LATAM</td>\n",
       "      <td>False</td>\n",
       "      <td>False</td>\n",
       "    </tr>\n",
       "  </tbody>\n",
       "</table>\n",
       "</div>"
      ],
      "text/plain": [
       "                                    OPERA  \\\n",
       "Fecha-I                                     \n",
       "2017-03-05 00:35:00           Grupo LATAM   \n",
       "2017-03-05 01:15:00  Latin American Wings   \n",
       "2017-03-05 01:32:00              Copa Air   \n",
       "2017-03-05 01:33:00               Avianca   \n",
       "2017-03-05 01:40:00           Grupo LATAM   \n",
       "2017-03-05 03:05:00             Gol Trans   \n",
       "2017-03-05 03:21:00              Copa Air   \n",
       "2017-03-05 03:25:00           Grupo LATAM   \n",
       "2017-03-05 04:35:00           Grupo LATAM   \n",
       "2017-03-05 04:55:00           Grupo LATAM   \n",
       "2017-03-05 05:10:00           Grupo LATAM   \n",
       "2017-03-05 05:20:00           Sky Airline   \n",
       "2017-03-05 05:30:00           Grupo LATAM   \n",
       "2017-03-05 05:30:00           Grupo LATAM   \n",
       "2017-03-05 05:35:00           Sky Airline   \n",
       "2017-03-05 05:55:00           Sky Airline   \n",
       "2017-03-05 06:05:00           Sky Airline   \n",
       "2017-03-05 06:25:00           Sky Airline   \n",
       "2017-03-05 06:30:00           Sky Airline   \n",
       "2017-03-05 06:35:00           Grupo LATAM   \n",
       "\n",
       "                     is_top_10_airlines_delay_and_delay_15  delay_15  \n",
       "Fecha-I                                                               \n",
       "2017-03-05 00:35:00                                   True      True  \n",
       "2017-03-05 01:15:00                                   True      True  \n",
       "2017-03-05 01:32:00                                  False     False  \n",
       "2017-03-05 01:33:00                                  False     False  \n",
       "2017-03-05 01:40:00                                  False     False  \n",
       "2017-03-05 03:05:00                                  False     False  \n",
       "2017-03-05 03:21:00                                  False     False  \n",
       "2017-03-05 03:25:00                                  False     False  \n",
       "2017-03-05 04:35:00                                  False     False  \n",
       "2017-03-05 04:55:00                                  False     False  \n",
       "2017-03-05 05:10:00                                  False     False  \n",
       "2017-03-05 05:20:00                                  False     False  \n",
       "2017-03-05 05:30:00                                  False     False  \n",
       "2017-03-05 05:30:00                                  False     False  \n",
       "2017-03-05 05:35:00                                  False     False  \n",
       "2017-03-05 05:55:00                                  False     False  \n",
       "2017-03-05 06:05:00                                  False     False  \n",
       "2017-03-05 06:25:00                                  False     False  \n",
       "2017-03-05 06:30:00                                  False     False  \n",
       "2017-03-05 06:35:00                                  False     False  "
      ]
     },
     "execution_count": 25,
     "metadata": {},
     "output_type": "execute_result"
    }
   ],
   "source": [
    "df[df.index.date==pd.to_datetime('2017-03-05')][['OPERA','is_top_10_airlines_delay_and_delay_15','delay_15']].head(20)"
   ]
  },
  {
   "cell_type": "code",
   "execution_count": 26,
   "id": "40739322",
   "metadata": {
    "execution": {
     "iopub.execute_input": "2022-12-18T01:52:03.624059Z",
     "iopub.status.busy": "2022-12-18T01:52:03.622404Z",
     "iopub.status.idle": "2022-12-18T01:52:03.692481Z",
     "shell.execute_reply": "2022-12-18T01:52:03.691028Z"
    },
    "papermill": {
     "duration": 0.099785,
     "end_time": "2022-12-18T01:52:03.695117",
     "exception": false,
     "start_time": "2022-12-18T01:52:03.595332",
     "status": "completed"
    },
    "tags": []
   },
   "outputs": [
    {
     "data": {
      "text/html": [
       "<div>\n",
       "<style scoped>\n",
       "    .dataframe tbody tr th:only-of-type {\n",
       "        vertical-align: middle;\n",
       "    }\n",
       "\n",
       "    .dataframe tbody tr th {\n",
       "        vertical-align: top;\n",
       "    }\n",
       "\n",
       "    .dataframe thead th {\n",
       "        text-align: right;\n",
       "    }\n",
       "</style>\n",
       "<table border=\"1\" class=\"dataframe\">\n",
       "  <thead>\n",
       "    <tr style=\"text-align: right;\">\n",
       "      <th></th>\n",
       "      <th>features</th>\n",
       "      <th>corr</th>\n",
       "    </tr>\n",
       "  </thead>\n",
       "  <tbody>\n",
       "    <tr>\n",
       "      <th>12</th>\n",
       "      <td>delay_last_4h</td>\n",
       "      <td>0.223721</td>\n",
       "    </tr>\n",
       "    <tr>\n",
       "      <th>15</th>\n",
       "      <td>delay_last_6h</td>\n",
       "      <td>0.222552</td>\n",
       "    </tr>\n",
       "    <tr>\n",
       "      <th>9</th>\n",
       "      <td>delay_last_2h</td>\n",
       "      <td>0.217613</td>\n",
       "    </tr>\n",
       "    <tr>\n",
       "      <th>14</th>\n",
       "      <td>perc_delay_4h</td>\n",
       "      <td>0.213596</td>\n",
       "    </tr>\n",
       "    <tr>\n",
       "      <th>17</th>\n",
       "      <td>perc_delay_6h</td>\n",
       "      <td>0.212110</td>\n",
       "    </tr>\n",
       "    <tr>\n",
       "      <th>11</th>\n",
       "      <td>perc_delay_2h</td>\n",
       "      <td>0.206316</td>\n",
       "    </tr>\n",
       "    <tr>\n",
       "      <th>44</th>\n",
       "      <td>qtd_flights_is_top_10_airlines_delay_and_delay...</td>\n",
       "      <td>0.205909</td>\n",
       "    </tr>\n",
       "    <tr>\n",
       "      <th>40</th>\n",
       "      <td>qtd_flights_is_top_10_airlines_delay_and_delay...</td>\n",
       "      <td>0.204304</td>\n",
       "    </tr>\n",
       "    <tr>\n",
       "      <th>6</th>\n",
       "      <td>delay_last_1h</td>\n",
       "      <td>0.201430</td>\n",
       "    </tr>\n",
       "    <tr>\n",
       "      <th>18</th>\n",
       "      <td>delay_last_12h</td>\n",
       "      <td>0.200292</td>\n",
       "    </tr>\n",
       "    <tr>\n",
       "      <th>36</th>\n",
       "      <td>qtd_flights_is_top_10_airlines_delay_and_delay...</td>\n",
       "      <td>0.193402</td>\n",
       "    </tr>\n",
       "    <tr>\n",
       "      <th>48</th>\n",
       "      <td>qtd_flights_is_top_10_airlines_delay_and_delay...</td>\n",
       "      <td>0.190657</td>\n",
       "    </tr>\n",
       "    <tr>\n",
       "      <th>8</th>\n",
       "      <td>perc_delay_1h</td>\n",
       "      <td>0.186724</td>\n",
       "    </tr>\n",
       "    <tr>\n",
       "      <th>20</th>\n",
       "      <td>perc_delay_12h</td>\n",
       "      <td>0.186128</td>\n",
       "    </tr>\n",
       "    <tr>\n",
       "      <th>21</th>\n",
       "      <td>delay_last_18h</td>\n",
       "      <td>0.184841</td>\n",
       "    </tr>\n",
       "    <tr>\n",
       "      <th>24</th>\n",
       "      <td>delay_last_24h</td>\n",
       "      <td>0.182286</td>\n",
       "    </tr>\n",
       "    <tr>\n",
       "      <th>52</th>\n",
       "      <td>qtd_flights_is_top_10_airlines_delay_and_delay...</td>\n",
       "      <td>0.178325</td>\n",
       "    </tr>\n",
       "    <tr>\n",
       "      <th>26</th>\n",
       "      <td>perc_delay_24h</td>\n",
       "      <td>0.178296</td>\n",
       "    </tr>\n",
       "    <tr>\n",
       "      <th>32</th>\n",
       "      <td>qtd_flights_is_top_10_airlines_delay_and_delay...</td>\n",
       "      <td>0.174754</td>\n",
       "    </tr>\n",
       "    <tr>\n",
       "      <th>56</th>\n",
       "      <td>qtd_flights_is_top_10_airlines_delay_and_delay...</td>\n",
       "      <td>0.174296</td>\n",
       "    </tr>\n",
       "  </tbody>\n",
       "</table>\n",
       "</div>"
      ],
      "text/plain": [
       "                                             features      corr\n",
       "12                                      delay_last_4h  0.223721\n",
       "15                                      delay_last_6h  0.222552\n",
       "9                                       delay_last_2h  0.217613\n",
       "14                                      perc_delay_4h  0.213596\n",
       "17                                      perc_delay_6h  0.212110\n",
       "11                                      perc_delay_2h  0.206316\n",
       "44  qtd_flights_is_top_10_airlines_delay_and_delay...  0.205909\n",
       "40  qtd_flights_is_top_10_airlines_delay_and_delay...  0.204304\n",
       "6                                       delay_last_1h  0.201430\n",
       "18                                     delay_last_12h  0.200292\n",
       "36  qtd_flights_is_top_10_airlines_delay_and_delay...  0.193402\n",
       "48  qtd_flights_is_top_10_airlines_delay_and_delay...  0.190657\n",
       "8                                       perc_delay_1h  0.186724\n",
       "20                                     perc_delay_12h  0.186128\n",
       "21                                     delay_last_18h  0.184841\n",
       "24                                     delay_last_24h  0.182286\n",
       "52  qtd_flights_is_top_10_airlines_delay_and_delay...  0.178325\n",
       "26                                     perc_delay_24h  0.178296\n",
       "32  qtd_flights_is_top_10_airlines_delay_and_delay...  0.174754\n",
       "56  qtd_flights_is_top_10_airlines_delay_and_delay...  0.174296"
      ]
     },
     "execution_count": 26,
     "metadata": {},
     "output_type": "execute_result"
    }
   ],
   "source": [
    "best_feats=pd.DataFrame(features_no_cat_col,columns=['features'])\n",
    "best_feats['corr']=best_feats['features'].apply(lambda x: np.corrcoef(df2[x],df2['delay_15'])[0][1])\n",
    "best_feats.sort_values(by=['corr'],ascending=[0],inplace=True)\n",
    "best_feats.head(20)"
   ]
  },
  {
   "cell_type": "code",
   "execution_count": 27,
   "id": "c65f201d",
   "metadata": {
    "execution": {
     "iopub.execute_input": "2022-12-18T01:52:03.748358Z",
     "iopub.status.busy": "2022-12-18T01:52:03.747813Z",
     "iopub.status.idle": "2022-12-18T01:52:04.724461Z",
     "shell.execute_reply": "2022-12-18T01:52:04.723021Z"
    },
    "papermill": {
     "duration": 1.007032,
     "end_time": "2022-12-18T01:52:04.727366",
     "exception": false,
     "start_time": "2022-12-18T01:52:03.720334",
     "status": "completed"
    },
    "tags": []
   },
   "outputs": [
    {
     "name": "stdout",
     "output_type": "stream",
     "text": [
      "delay_last_4h\n"
     ]
    },
    {
     "data": {
      "image/png": "[encoded data removed]",
      "text/plain": [
       "<Figure size 432x288 with 1 Axes>"
      ]
     },
     "metadata": {
      "needs_background": "light"
     },
     "output_type": "display_data"
    },
    {
     "name": "stdout",
     "output_type": "stream",
     "text": [
      "delay_last_6h\n"
     ]
    },
    {
     "data": {
      "image/png": "[encoded data removed]",
      "text/plain": [
       "<Figure size 432x288 with 1 Axes>"
      ]
     },
     "metadata": {
      "needs_background": "light"
     },
     "output_type": "display_data"
    },
    {
     "name": "stdout",
     "output_type": "stream",
     "text": [
      "delay_last_2h\n"
     ]
    },
    {
     "data": {
      "image/png": "[encoded data removed]",
      "text/plain": [
       "<Figure size 432x288 with 1 Axes>"
      ]
     },
     "metadata": {
      "needs_background": "light"
     },
     "output_type": "display_data"
    }
   ],
   "source": [
    "for var in best_feats.head(3)['features'].values:\n",
    "    print(var)\n",
    "    df.groupby('delay_15')[var].plot.hist(bins=20,density=True,alpha=0.4) #density=True makes the same y-axis (sum is 100%)\n",
    "    plt.legend(['On time','Delayed']) # the order is False first and True after (ascending order 0>1)\n",
    "    plt.show()"
   ]
  },
  {
   "cell_type": "code",
   "execution_count": 28,
   "id": "b83391e7",
   "metadata": {
    "execution": {
     "iopub.execute_input": "2022-12-18T01:52:04.782720Z",
     "iopub.status.busy": "2022-12-18T01:52:04.782317Z",
     "iopub.status.idle": "2022-12-18T01:52:05.534190Z",
     "shell.execute_reply": "2022-12-18T01:52:05.532815Z"
    },
    "papermill": {
     "duration": 0.78233,
     "end_time": "2022-12-18T01:52:05.536726",
     "exception": false,
     "start_time": "2022-12-18T01:52:04.754396",
     "status": "completed"
    },
    "tags": []
   },
   "outputs": [
    {
     "name": "stdout",
     "output_type": "stream",
     "text": [
      "delay_last_4h\n"
     ]
    },
    {
     "data": {
      "image/png": "[encoded data removed]",
      "text/plain": [
       "<Figure size 432x288 with 1 Axes>"
      ]
     },
     "metadata": {
      "needs_background": "light"
     },
     "output_type": "display_data"
    },
    {
     "name": "stdout",
     "output_type": "stream",
     "text": [
      "delay_last_6h\n"
     ]
    },
    {
     "data": {
      "image/png": "[encoded data removed]",
      "text/plain": [
       "<Figure size 432x288 with 1 Axes>"
      ]
     },
     "metadata": {
      "needs_background": "light"
     },
     "output_type": "display_data"
    },
    {
     "name": "stdout",
     "output_type": "stream",
     "text": [
      "delay_last_2h\n"
     ]
    },
    {
     "data": {
      "image/png": "[encoded data removed]",
      "text/plain": [
       "<Figure size 432x288 with 1 Axes>"
      ]
     },
     "metadata": {
      "needs_background": "light"
     },
     "output_type": "display_data"
    }
   ],
   "source": [
    "#past flights alone has a low correlation with the output\n",
    "# if we zoom-in in the top 5 airlines with most delay, can we see the same correlation?\n",
    "for var in best_feats.head(3)['features'].values:\n",
    "    print(var)\n",
    "    df[df['OPERA'].isin(comp_delay_5)].groupby('delay_15')[var].plot.hist(bins=20,density=True,alpha=0.4) #density=True makes the same y-axis (sum is 100%)\n",
    "    plt.legend(['On time','Delayed']) # the order is False first and True after (ascending order 0>1)\n",
    "    plt.show()\n",
    "#the answer is yes, these  past delayed variables will not make significant changes on the model"
   ]
  },
  {
   "cell_type": "code",
   "execution_count": 29,
   "id": "cdd35900",
   "metadata": {
    "execution": {
     "iopub.execute_input": "2022-12-18T01:52:05.594036Z",
     "iopub.status.busy": "2022-12-18T01:52:05.592764Z",
     "iopub.status.idle": "2022-12-18T01:52:05.609678Z",
     "shell.execute_reply": "2022-12-18T01:52:05.608349Z"
    },
    "papermill": {
     "duration": 0.048095,
     "end_time": "2022-12-18T01:52:05.612199",
     "exception": false,
     "start_time": "2022-12-18T01:52:05.564104",
     "status": "completed"
    },
    "tags": []
   },
   "outputs": [
    {
     "name": "stdout",
     "output_type": "stream",
     "text": [
      "['Ori-I', 'Des-I', 'Emp-I', 'Ori-O', 'Des-O', 'Emp-O', 'DIANOM', 'TIPOVUELO', 'OPERA', 'SIGLAORI', 'SIGLADES', 'period_day']\n"
     ]
    },
    {
     "data": {
      "text/plain": [
       "['Ori-I',\n",
       " 'Des-I',\n",
       " 'Emp-I',\n",
       " 'Ori-O',\n",
       " 'Des-O',\n",
       " 'Emp-O',\n",
       " 'DIA',\n",
       " 'MES',\n",
       " 'AÑO',\n",
       " 'DIANOM',\n",
       " 'TIPOVUELO',\n",
       " 'OPERA',\n",
       " 'SIGLAORI',\n",
       " 'SIGLADES',\n",
       " 'high_season',\n",
       " 'high_season_2',\n",
       " 'period_day',\n",
       " 'delay_previous_flight',\n",
       " 'delay_last_1h',\n",
       " 'qtd_flights_1h',\n",
       " 'perc_delay_1h',\n",
       " 'delay_last_2h',\n",
       " 'qtd_flights_2h',\n",
       " 'perc_delay_2h',\n",
       " 'delay_last_4h',\n",
       " 'qtd_flights_4h',\n",
       " 'perc_delay_4h',\n",
       " 'delay_last_6h',\n",
       " 'qtd_flights_6h',\n",
       " 'perc_delay_6h',\n",
       " 'delay_last_12h',\n",
       " 'qtd_flights_12h',\n",
       " 'perc_delay_12h',\n",
       " 'delay_last_18h',\n",
       " 'qtd_flights_18h',\n",
       " 'perc_delay_18h',\n",
       " 'delay_last_24h',\n",
       " 'qtd_flights_24h',\n",
       " 'perc_delay_24h',\n",
       " 'is_top_5_airlines_delay',\n",
       " 'is_top_10_airlines_delay',\n",
       " 'qtd_flights_is_top_5_airlines_delay_1h',\n",
       " 'qtd_flights_is_top_10_airlines_delay_1h',\n",
       " 'qtd_flights_is_top_5_airlines_delay_and_delay_15_1h',\n",
       " 'qtd_flights_is_top_10_airlines_delay_and_delay_15_1h',\n",
       " 'qtd_flights_is_top_5_airlines_delay_2h',\n",
       " 'qtd_flights_is_top_10_airlines_delay_2h',\n",
       " 'qtd_flights_is_top_5_airlines_delay_and_delay_15_2h',\n",
       " 'qtd_flights_is_top_10_airlines_delay_and_delay_15_2h',\n",
       " 'qtd_flights_is_top_5_airlines_delay_4h',\n",
       " 'qtd_flights_is_top_10_airlines_delay_4h',\n",
       " 'qtd_flights_is_top_5_airlines_delay_and_delay_15_4h',\n",
       " 'qtd_flights_is_top_10_airlines_delay_and_delay_15_4h',\n",
       " 'qtd_flights_is_top_5_airlines_delay_6h',\n",
       " 'qtd_flights_is_top_10_airlines_delay_6h',\n",
       " 'qtd_flights_is_top_5_airlines_delay_and_delay_15_6h',\n",
       " 'qtd_flights_is_top_10_airlines_delay_and_delay_15_6h',\n",
       " 'qtd_flights_is_top_5_airlines_delay_12h',\n",
       " 'qtd_flights_is_top_10_airlines_delay_12h',\n",
       " 'qtd_flights_is_top_5_airlines_delay_and_delay_15_12h',\n",
       " 'qtd_flights_is_top_10_airlines_delay_and_delay_15_12h',\n",
       " 'qtd_flights_is_top_5_airlines_delay_18h',\n",
       " 'qtd_flights_is_top_10_airlines_delay_18h',\n",
       " 'qtd_flights_is_top_5_airlines_delay_and_delay_15_18h',\n",
       " 'qtd_flights_is_top_10_airlines_delay_and_delay_15_18h',\n",
       " 'qtd_flights_is_top_5_airlines_delay_24h',\n",
       " 'qtd_flights_is_top_10_airlines_delay_24h',\n",
       " 'qtd_flights_is_top_5_airlines_delay_and_delay_15_24h',\n",
       " 'qtd_flights_is_top_10_airlines_delay_and_delay_15_24h']"
      ]
     },
     "execution_count": 29,
     "metadata": {},
     "output_type": "execute_result"
    }
   ],
   "source": [
    "features=[feat for feat in df.columns if df[feat].dtype not in [\"object\"] and \n",
    "          feat not in ['delay_15','min_diff','Fecha-O','is_top_5_airlines_delay_and_delay_15',\n",
    "                      'is_top_10_airlines_delay_and_delay_15']]\n",
    "catfeats=[feat for feat in df.columns if df[feat].dtype in [\"category\"] and \n",
    "          feat not in ['delay_15','min_diff','Fecha-O','is_top_5_airlines_delay_and_delay_15',\n",
    "                      'is_top_10_airlines_delay_and_delay_15']]\n",
    "print(catfeats)\n",
    "features\n"
   ]
  },
  {
   "cell_type": "code",
   "execution_count": null,
   "id": "13cf863e",
   "metadata": {
    "papermill": {
     "duration": 0.027753,
     "end_time": "2022-12-18T01:52:05.667973",
     "exception": false,
     "start_time": "2022-12-18T01:52:05.640220",
     "status": "completed"
    },
    "tags": []
   },
   "outputs": [],
   "source": []
  },
  {
   "cell_type": "code",
   "execution_count": 30,
   "id": "41ed73aa",
   "metadata": {
    "execution": {
     "iopub.execute_input": "2022-12-18T01:52:05.727782Z",
     "iopub.status.busy": "2022-12-18T01:52:05.726175Z",
     "iopub.status.idle": "2022-12-18T01:52:06.698634Z",
     "shell.execute_reply": "2022-12-18T01:52:06.696690Z"
    },
    "papermill": {
     "duration": 1.004729,
     "end_time": "2022-12-18T01:52:06.701294",
     "exception": false,
     "start_time": "2022-12-18T01:52:05.696565",
     "status": "completed"
    },
    "tags": []
   },
   "outputs": [
    {
     "name": "stderr",
     "output_type": "stream",
     "text": [
      "/opt/conda/lib/python3.7/site-packages/ipykernel_launcher.py:5: FutureWarning: Comparison of Timestamp with datetime.date is deprecated in order to match the standard library behavior.  In a future version these will be considered non-comparable.Use 'ts == pd.Timestamp(date)' or 'ts.date() == date' instead.\n",
      "  \"\"\"\n",
      "/opt/conda/lib/python3.7/site-packages/ipykernel_launcher.py:8: FutureWarning: Comparison of Timestamp with datetime.date is deprecated in order to match the standard library behavior.  In a future version these will be considered non-comparable.Use 'ts == pd.Timestamp(date)' or 'ts.date() == date' instead.\n",
      "  \n",
      "/opt/conda/lib/python3.7/site-packages/ipykernel_launcher.py:9: FutureWarning: Comparison of Timestamp with datetime.date is deprecated in order to match the standard library behavior.  In a future version these will be considered non-comparable.Use 'ts == pd.Timestamp(date)' or 'ts.date() == date' instead.\n",
      "  if __name__ == \"__main__\":\n",
      "/opt/conda/lib/python3.7/site-packages/ipykernel_launcher.py:12: FutureWarning: Comparison of Timestamp with datetime.date is deprecated in order to match the standard library behavior.  In a future version these will be considered non-comparable.Use 'ts == pd.Timestamp(date)' or 'ts.date() == date' instead.\n",
      "  if sys.path[0] == \"\":\n",
      "/opt/conda/lib/python3.7/site-packages/ipykernel_launcher.py:13: FutureWarning: Comparison of Timestamp with datetime.date is deprecated in order to match the standard library behavior.  In a future version these will be considered non-comparable.Use 'ts == pd.Timestamp(date)' or 'ts.date() == date' instead.\n",
      "  del sys.path[0]\n"
     ]
    },
    {
     "name": "stdout",
     "output_type": "stream",
     "text": [
      "first experiment 49761 11918 6357\n",
      "second experiment 49761 11918 6357\n"
     ]
    },
    {
     "name": "stderr",
     "output_type": "stream",
     "text": [
      "/opt/conda/lib/python3.7/site-packages/ipykernel_launcher.py:19: FutureWarning: Comparison of Timestamp with datetime.date is deprecated in order to match the standard library behavior.  In a future version these will be considered non-comparable.Use 'ts == pd.Timestamp(date)' or 'ts.date() == date' instead.\n",
      "/opt/conda/lib/python3.7/site-packages/ipykernel_launcher.py:20: FutureWarning: Comparison of Timestamp with datetime.date is deprecated in order to match the standard library behavior.  In a future version these will be considered non-comparable.Use 'ts == pd.Timestamp(date)' or 'ts.date() == date' instead.\n"
     ]
    }
   ],
   "source": [
    "#split datasets for training the model\n",
    "#I am doing two experiments, one with the val df splitting by date and the other one random, using the same test dataset to evaluate the model\n",
    "\n",
    "#test dataset (outside of the model)\n",
    "test=df2[df2.index.date>=pd.to_datetime('2017-12-01')]\n",
    "\n",
    "#X datasets\n",
    "x_train=df2[df2.index.date<=pd.to_datetime('2017-10-01')][features]\n",
    "x_val=df2[(df2.index.date>pd.to_datetime('2017-10-01'))&(df2.index.date<pd.to_datetime('2017-12-01'))][features]\n",
    "\n",
    "#output variable\n",
    "y_train=df2[df2.index.date<=pd.to_datetime('2017-10-01')]['delay_15']\n",
    "y_val=df2[(df2.index.date>pd.to_datetime('2017-10-01'))&(df2.index.date<pd.to_datetime('2017-12-01'))]['delay_15']\n",
    "\n",
    "from sklearn.model_selection import train_test_split\n",
    "#percentage of validation dataset in the total for second experiment\n",
    "perc_val=y_val.shape[0]/(y_train.shape[0]+y_val.shape[0])\n",
    "#for second experiment\n",
    "x_train_2,x_val_2,y_train_2,y_val_2 = train_test_split(df2[df2.index.date<pd.to_datetime('2017-12-01')][features],\n",
    "                                                       df2[df2.index.date<pd.to_datetime('2017-12-01')]['delay_15'],\n",
    "                                                       test_size=perc_val)\n",
    "print(\"first experiment\",x_train.shape[0],x_val.shape[0],test.shape[0])\n",
    "print(\"second experiment\",x_train_2.shape[0],x_val_2.shape[0],test.shape[0])"
   ]
  },
  {
   "cell_type": "code",
   "execution_count": null,
   "id": "86e935a2",
   "metadata": {
    "papermill": {
     "duration": 0.028277,
     "end_time": "2022-12-18T01:52:06.757767",
     "exception": false,
     "start_time": "2022-12-18T01:52:06.729490",
     "status": "completed"
    },
    "tags": []
   },
   "outputs": [],
   "source": []
  },
  {
   "cell_type": "code",
   "execution_count": 31,
   "id": "13cfbb70",
   "metadata": {
    "execution": {
     "iopub.execute_input": "2022-12-18T01:52:06.816585Z",
     "iopub.status.busy": "2022-12-18T01:52:06.816168Z",
     "iopub.status.idle": "2022-12-18T01:52:07.726595Z",
     "shell.execute_reply": "2022-12-18T01:52:07.725456Z"
    },
    "papermill": {
     "duration": 0.94352,
     "end_time": "2022-12-18T01:52:07.729295",
     "exception": false,
     "start_time": "2022-12-18T01:52:06.785775",
     "status": "completed"
    },
    "tags": []
   },
   "outputs": [
    {
     "data": {
      "text/html": [
       "<style type='text/css'>\n",
       ".datatable table.frame { margin-bottom: 0; }\n",
       ".datatable table.frame thead { border-bottom: none; }\n",
       ".datatable table.frame tr.coltypes td {  color: #FFFFFF;  line-height: 6px;  padding: 0 0.5em;}\n",
       ".datatable .bool    { background: #DDDD99; }\n",
       ".datatable .object  { background: #565656; }\n",
       ".datatable .int     { background: #5D9E5D; }\n",
       ".datatable .float   { background: #4040CC; }\n",
       ".datatable .str     { background: #CC4040; }\n",
       ".datatable .time    { background: #40CC40; }\n",
       ".datatable .row_index {  background: var(--jp-border-color3);  border-right: 1px solid var(--jp-border-color0);  color: var(--jp-ui-font-color3);  font-size: 9px;}\n",
       ".datatable .frame tbody td { text-align: left; }\n",
       ".datatable .frame tr.coltypes .row_index {  background: var(--jp-border-color0);}\n",
       ".datatable th:nth-child(2) { padding-left: 12px; }\n",
       ".datatable .hellipsis {  color: var(--jp-cell-editor-border-color);}\n",
       ".datatable .vellipsis {  background: var(--jp-layout-color0);  color: var(--jp-cell-editor-border-color);}\n",
       ".datatable .na {  color: var(--jp-cell-editor-border-color);  font-size: 80%;}\n",
       ".datatable .sp {  opacity: 0.25;}\n",
       ".datatable .footer { font-size: 9px; }\n",
       ".datatable .frame_dimensions {  background: var(--jp-border-color3);  border-top: 1px solid var(--jp-border-color0);  color: var(--jp-ui-font-color3);  display: inline-block;  opacity: 0.6;  padding: 1px 10px 1px 5px;}\n",
       ".datatable .frame thead tr.colnames {  background-image: url('data:image/png;base64,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');  background-repeat: repeat-x;  background-size: 14px;  height: 28px;}\n",
       "</style>\n"
      ],
      "text/plain": [
       "<IPython.core.display.HTML object>"
      ]
     },
     "metadata": {},
     "output_type": "display_data"
    },
    {
     "name": "stdout",
     "output_type": "stream",
     "text": [
      "neg_value 41301 pos_values: 8460\n"
     ]
    },
    {
     "data": {
      "text/plain": [
       "4.881914893617021"
      ]
     },
     "execution_count": 31,
     "metadata": {},
     "output_type": "execute_result"
    }
   ],
   "source": [
    "#for this first model we are going with these conditions:\n",
    "    # use of scale_pos_weight and keep the original data\n",
    "    # validation dataset is the month of november \n",
    "    \n",
    "from sklearn.metrics import roc_auc_score\n",
    "import lightgbm as lgb\n",
    "sc_pos_w_value= y_train[y_train==False].shape[0]/y_train[y_train==True].shape[0]# number of negative samples / number of positive samples\n",
    "print(f'neg_value {y_train[y_train==False].shape[0]} pos_values: {y_train[y_train==True].shape[0]}')\n",
    "sc_pos_w_value"
   ]
  },
  {
   "cell_type": "code",
   "execution_count": 32,
   "id": "02169532",
   "metadata": {
    "execution": {
     "iopub.execute_input": "2022-12-18T01:52:07.796892Z",
     "iopub.status.busy": "2022-12-18T01:52:07.796426Z",
     "iopub.status.idle": "2022-12-18T01:52:16.399807Z",
     "shell.execute_reply": "2022-12-18T01:52:16.398187Z"
    },
    "papermill": {
     "duration": 8.639272,
     "end_time": "2022-12-18T01:52:16.402608",
     "exception": false,
     "start_time": "2022-12-18T01:52:07.763336",
     "status": "completed"
    },
    "tags": []
   },
   "outputs": [
    {
     "name": "stderr",
     "output_type": "stream",
     "text": [
      "/opt/conda/lib/python3.7/site-packages/lightgbm/engine.py:181: UserWarning: 'early_stopping_rounds' argument is deprecated and will be removed in a future release of LightGBM. Pass 'early_stopping()' callback via 'callbacks' argument instead.\n",
      "  _log_warning(\"'early_stopping_rounds' argument is deprecated and will be removed in a future release of LightGBM. \"\n",
      "/opt/conda/lib/python3.7/site-packages/lightgbm/engine.py:239: UserWarning: 'verbose_eval' argument is deprecated and will be removed in a future release of LightGBM. Pass 'log_evaluation()' callback via 'callbacks' argument instead.\n",
      "  _log_warning(\"'verbose_eval' argument is deprecated and will be removed in a future release of LightGBM. \"\n",
      "/opt/conda/lib/python3.7/site-packages/lightgbm/basic.py:1780: UserWarning: Overriding the parameters from Reference Dataset.\n",
      "  _log_warning('Overriding the parameters from Reference Dataset.')\n",
      "/opt/conda/lib/python3.7/site-packages/lightgbm/basic.py:1513: UserWarning: categorical_column in param dict is overridden.\n",
      "  _log_warning(f'{cat_alias} in param dict is overridden.')\n"
     ]
    },
    {
     "name": "stdout",
     "output_type": "stream",
     "text": [
      "Training until validation scores don't improve for 50 rounds\n",
      "[50]\ttrain's auc: 0.715773\ttest's auc: 0.686341\n",
      "[100]\ttrain's auc: 0.721158\ttest's auc: 0.690617\n",
      "[150]\ttrain's auc: 0.724716\ttest's auc: 0.692858\n",
      "[200]\ttrain's auc: 0.72732\ttest's auc: 0.694878\n",
      "[250]\ttrain's auc: 0.729849\ttest's auc: 0.696404\n",
      "[300]\ttrain's auc: 0.732402\ttest's auc: 0.69749\n",
      "[350]\ttrain's auc: 0.734224\ttest's auc: 0.698423\n",
      "[400]\ttrain's auc: 0.736277\ttest's auc: 0.699202\n",
      "[450]\ttrain's auc: 0.738261\ttest's auc: 0.699781\n",
      "[500]\ttrain's auc: 0.740073\ttest's auc: 0.700088\n",
      "[550]\ttrain's auc: 0.741556\ttest's auc: 0.700512\n",
      "[600]\ttrain's auc: 0.743076\ttest's auc: 0.700668\n",
      "[650]\ttrain's auc: 0.744453\ttest's auc: 0.70056\n",
      "Early stopping, best iteration is:\n",
      "[612]\ttrain's auc: 0.743485\ttest's auc: 0.700734\n",
      " AUC:  0.6958733823170326\n"
     ]
    },
    {
     "name": "stderr",
     "output_type": "stream",
     "text": [
      "/opt/conda/lib/python3.7/site-packages/ipykernel_launcher.py:32: SettingWithCopyWarning: \n",
      "A value is trying to be set on a copy of a slice from a DataFrame.\n",
      "Try using .loc[row_indexer,col_indexer] = value instead\n",
      "\n",
      "See the caveats in the documentation: https://pandas.pydata.org/pandas-docs/stable/user_guide/indexing.html#returning-a-view-versus-a-copy\n",
      "/opt/conda/lib/python3.7/site-packages/ipykernel_launcher.py:33: SettingWithCopyWarning: \n",
      "A value is trying to be set on a copy of a slice from a DataFrame.\n",
      "Try using .loc[row_indexer,col_indexer] = value instead\n",
      "\n",
      "See the caveats in the documentation: https://pandas.pydata.org/pandas-docs/stable/user_guide/indexing.html#returning-a-view-versus-a-copy\n"
     ]
    }
   ],
   "source": [
    "d_train = lgb.Dataset(x_train,y_train)\n",
    "d_valid = lgb.Dataset(x_val,y_val)\n",
    "\n",
    "#LightGBM uses variables with dtype='category' as categorical columns in the model (even if they are strings)\n",
    "params = {\n",
    "        'objective' :'binary',\n",
    "        'metric':'auc',\n",
    "        'learning_rate' :0.0151459,\n",
    "        'num_leaves' : 6,\n",
    "        'max_depth':3,\n",
    "        'feature_fraction': 0.75, \n",
    "        'bagging_fraction': 0.95, \n",
    "        'bagging_freq':4,\n",
    "        'max_bin':20,\n",
    "        'lambda_l1':4,\n",
    "        'lambda_l2':4,\n",
    "        'boosting_type' : 'gbdt',\n",
    "        'verbose':-1,\n",
    "        'min_data_in_leaf':20,\n",
    "       'min_gain_to_split':0.03,\n",
    "     'scale_pos_weight':sc_pos_w_value\n",
    "    }\n",
    "bst = lgb.train(params,\n",
    "                d_train, \n",
    "                1000, \n",
    "               # valid_sets=[d_train], \n",
    "               # valid_names=[\"train\"],\n",
    "                valid_sets=[d_train,d_valid],\n",
    "                valid_names=[\"train\",\"test\"],\n",
    "                verbose_eval=50,\n",
    "                early_stopping_rounds=50)\n",
    "test[\"y_pred\"]=bst.predict(test[features])\n",
    "test[\"y_pred2\"]=(test[\"y_pred\"]>0.5).astype(bool)\n",
    "roc_pred=roc_auc_score(test[\"delay_15\"],test[\"y_pred\"])\n",
    "print(\" AUC: \", roc_pred)"
   ]
  },
  {
   "cell_type": "code",
   "execution_count": 33,
   "id": "bfb3cd09",
   "metadata": {
    "execution": {
     "iopub.execute_input": "2022-12-18T01:52:16.463752Z",
     "iopub.status.busy": "2022-12-18T01:52:16.463347Z",
     "iopub.status.idle": "2022-12-18T01:52:29.675848Z",
     "shell.execute_reply": "2022-12-18T01:52:29.674823Z"
    },
    "papermill": {
     "duration": 13.246225,
     "end_time": "2022-12-18T01:52:29.678616",
     "exception": false,
     "start_time": "2022-12-18T01:52:16.432391",
     "status": "completed"
    },
    "tags": []
   },
   "outputs": [
    {
     "name": "stderr",
     "output_type": "stream",
     "text": [
      "/opt/conda/lib/python3.7/site-packages/lightgbm/engine.py:181: UserWarning: 'early_stopping_rounds' argument is deprecated and will be removed in a future release of LightGBM. Pass 'early_stopping()' callback via 'callbacks' argument instead.\n",
      "  _log_warning(\"'early_stopping_rounds' argument is deprecated and will be removed in a future release of LightGBM. \"\n",
      "/opt/conda/lib/python3.7/site-packages/lightgbm/engine.py:239: UserWarning: 'verbose_eval' argument is deprecated and will be removed in a future release of LightGBM. Pass 'log_evaluation()' callback via 'callbacks' argument instead.\n",
      "  _log_warning(\"'verbose_eval' argument is deprecated and will be removed in a future release of LightGBM. \"\n",
      "/opt/conda/lib/python3.7/site-packages/lightgbm/basic.py:1780: UserWarning: Overriding the parameters from Reference Dataset.\n",
      "  _log_warning('Overriding the parameters from Reference Dataset.')\n",
      "/opt/conda/lib/python3.7/site-packages/lightgbm/basic.py:1513: UserWarning: categorical_column in param dict is overridden.\n",
      "  _log_warning(f'{cat_alias} in param dict is overridden.')\n"
     ]
    },
    {
     "name": "stdout",
     "output_type": "stream",
     "text": [
      "Training until validation scores don't improve for 50 rounds\n",
      "[50]\ttrain's auc: 0.712069\ttest's auc: 0.711474\n",
      "[100]\ttrain's auc: 0.718359\ttest's auc: 0.716879\n",
      "[150]\ttrain's auc: 0.722025\ttest's auc: 0.719385\n",
      "[200]\ttrain's auc: 0.724847\ttest's auc: 0.721307\n",
      "[250]\ttrain's auc: 0.727152\ttest's auc: 0.722971\n",
      "[300]\ttrain's auc: 0.729242\ttest's auc: 0.724314\n",
      "[350]\ttrain's auc: 0.731386\ttest's auc: 0.725673\n",
      "[400]\ttrain's auc: 0.733255\ttest's auc: 0.726357\n",
      "[450]\ttrain's auc: 0.734972\ttest's auc: 0.727113\n",
      "[500]\ttrain's auc: 0.736636\ttest's auc: 0.728031\n",
      "[550]\ttrain's auc: 0.738227\ttest's auc: 0.72875\n",
      "[600]\ttrain's auc: 0.739796\ttest's auc: 0.729578\n",
      "[650]\ttrain's auc: 0.741025\ttest's auc: 0.730061\n",
      "[700]\ttrain's auc: 0.742271\ttest's auc: 0.730519\n",
      "[750]\ttrain's auc: 0.743723\ttest's auc: 0.731104\n",
      "[800]\ttrain's auc: 0.744943\ttest's auc: 0.731625\n",
      "[850]\ttrain's auc: 0.746137\ttest's auc: 0.732124\n",
      "[900]\ttrain's auc: 0.747378\ttest's auc: 0.73247\n",
      "[950]\ttrain's auc: 0.748513\ttest's auc: 0.732938\n",
      "[1000]\ttrain's auc: 0.749648\ttest's auc: 0.733394\n",
      "Did not meet early stopping. Best iteration is:\n",
      "[1000]\ttrain's auc: 0.749648\ttest's auc: 0.733394\n",
      " AUC:  0.7044262913716175\n"
     ]
    },
    {
     "name": "stderr",
     "output_type": "stream",
     "text": [
      "/opt/conda/lib/python3.7/site-packages/ipykernel_launcher.py:36: SettingWithCopyWarning: \n",
      "A value is trying to be set on a copy of a slice from a DataFrame.\n",
      "Try using .loc[row_indexer,col_indexer] = value instead\n",
      "\n",
      "See the caveats in the documentation: https://pandas.pydata.org/pandas-docs/stable/user_guide/indexing.html#returning-a-view-versus-a-copy\n",
      "/opt/conda/lib/python3.7/site-packages/ipykernel_launcher.py:37: SettingWithCopyWarning: \n",
      "A value is trying to be set on a copy of a slice from a DataFrame.\n",
      "Try using .loc[row_indexer,col_indexer] = value instead\n",
      "\n",
      "See the caveats in the documentation: https://pandas.pydata.org/pandas-docs/stable/user_guide/indexing.html#returning-a-view-versus-a-copy\n"
     ]
    }
   ],
   "source": [
    "#as we can see the model has a little of overfitting and the test dataset\n",
    "# has a great difference for train/val AUC\n",
    "#let's use the same params but with the random splitting for train/test\n",
    "\n",
    "d_train = lgb.Dataset(x_train_2,y_train_2)\n",
    "d_valid = lgb.Dataset(x_val_2,y_val_2)\n",
    "\n",
    "#LightGBM uses variables with dtype='category' as categorical columns in the model (even if they are strings)\n",
    "params = {\n",
    "        'objective' :'binary',\n",
    "        'metric':'auc',\n",
    "        'learning_rate' :0.0151459,\n",
    "        'num_leaves' : 6,\n",
    "        'max_depth':3,\n",
    "        'feature_fraction': 0.75, \n",
    "        'bagging_fraction': 0.95, \n",
    "        'bagging_freq':4,\n",
    "        'max_bin':20,\n",
    "        'lambda_l1':4,\n",
    "        'lambda_l2':4,\n",
    "        'boosting_type' : 'gbdt',\n",
    "        'verbose':-1,\n",
    "        'min_data_in_leaf':20,\n",
    "       'min_gain_to_split':0.03,\n",
    "     'scale_pos_weight':sc_pos_w_value\n",
    "    }\n",
    "bst = lgb.train(params,\n",
    "                d_train, \n",
    "                1000, \n",
    "               # valid_sets=[d_train], \n",
    "               # valid_names=[\"train\"],\n",
    "                valid_sets=[d_train,d_valid],\n",
    "                valid_names=[\"train\",\"test\"],\n",
    "                verbose_eval=50,\n",
    "                early_stopping_rounds=50)\n",
    "test[\"y_pred\"]=bst.predict(test[features])\n",
    "test[\"y_pred2\"]=(test[\"y_pred\"]>0.5).astype(bool)\n",
    "roc_pred=roc_auc_score(test[\"delay_15\"],test[\"y_pred\"])\n",
    "print(\" AUC: \", roc_pred)"
   ]
  },
  {
   "cell_type": "code",
   "execution_count": 34,
   "id": "a3e9332e",
   "metadata": {
    "execution": {
     "iopub.execute_input": "2022-12-18T01:52:29.746608Z",
     "iopub.status.busy": "2022-12-18T01:52:29.745121Z",
     "iopub.status.idle": "2022-12-18T01:52:30.029118Z",
     "shell.execute_reply": "2022-12-18T01:52:30.027683Z"
    },
    "papermill": {
     "duration": 0.320498,
     "end_time": "2022-12-18T01:52:30.031997",
     "exception": false,
     "start_time": "2022-12-18T01:52:29.711499",
     "status": "completed"
    },
    "tags": []
   },
   "outputs": [
    {
     "data": {
      "text/plain": [
       "delay_15\n",
       "False    AxesSubplot(0.125,0.125;0.775x0.755)\n",
       "True     AxesSubplot(0.125,0.125;0.775x0.755)\n",
       "Name: y_pred, dtype: object"
      ]
     },
     "execution_count": 34,
     "metadata": {},
     "output_type": "execute_result"
    },
    {
     "data": {
      "image/png": "[encoded data removed]",
      "text/plain": [
       "<Figure size 432x288 with 1 Axes>"
      ]
     },
     "metadata": {
      "needs_background": "light"
     },
     "output_type": "display_data"
    }
   ],
   "source": [
    "#we have a train/val dataset that is highly correlated but no major difference for test dataset\n",
    "#let's check the distribution of the predicted result and see if 0.5 is a great cutoff\n",
    "test.groupby(['delay_15'])['y_pred'].plot.hist(bins=20,stacked=True,alpha=0.3)\n",
    "# yes 0.5 is a great cutoff"
   ]
  },
  {
   "cell_type": "code",
   "execution_count": 35,
   "id": "05eff656",
   "metadata": {
    "execution": {
     "iopub.execute_input": "2022-12-18T01:52:30.098356Z",
     "iopub.status.busy": "2022-12-18T01:52:30.097927Z",
     "iopub.status.idle": "2022-12-18T01:52:30.395067Z",
     "shell.execute_reply": "2022-12-18T01:52:30.392364Z"
    },
    "papermill": {
     "duration": 0.333541,
     "end_time": "2022-12-18T01:52:30.397897",
     "exception": false,
     "start_time": "2022-12-18T01:52:30.064356",
     "status": "completed"
    },
    "tags": []
   },
   "outputs": [
    {
     "name": "stderr",
     "output_type": "stream",
     "text": [
      "/opt/conda/lib/python3.7/site-packages/ipykernel_launcher.py:6: FutureWarning: Comparison of Timestamp with datetime.date is deprecated in order to match the standard library behavior.  In a future version these will be considered non-comparable.Use 'ts == pd.Timestamp(date)' or 'ts.date() == date' instead.\n",
      "  \n",
      "/opt/conda/lib/python3.7/site-packages/ipykernel_launcher.py:7: FutureWarning: Comparison of Timestamp with datetime.date is deprecated in order to match the standard library behavior.  In a future version these will be considered non-comparable.Use 'ts == pd.Timestamp(date)' or 'ts.date() == date' instead.\n",
      "  import sys\n"
     ]
    },
    {
     "data": {
      "text/plain": [
       "False    41301\n",
       "True      8460\n",
       "Name: delay_15, dtype: int64"
      ]
     },
     "execution_count": 35,
     "metadata": {},
     "output_type": "execute_result"
    }
   ],
   "source": [
    "#what if for train/val dataset we take a sample of False values so we have 50/50 dataset?\n",
    "# using the same params\n",
    "# using the month of november for validation dataset\n",
    "\n",
    "\n",
    "train=df2[df2.index.date<=pd.to_datetime('2017-10-01')]\n",
    "val=df2[(df2.index.date>pd.to_datetime('2017-10-01'))&(df2.index.date<pd.to_datetime('2017-12-01'))]\n",
    "train['delay_15'].value_counts()"
   ]
  },
  {
   "cell_type": "code",
   "execution_count": 36,
   "id": "1347fe12",
   "metadata": {
    "execution": {
     "iopub.execute_input": "2022-12-18T01:52:30.466649Z",
     "iopub.status.busy": "2022-12-18T01:52:30.466241Z",
     "iopub.status.idle": "2022-12-18T01:52:30.571917Z",
     "shell.execute_reply": "2022-12-18T01:52:30.570414Z"
    },
    "papermill": {
     "duration": 0.143257,
     "end_time": "2022-12-18T01:52:30.574472",
     "exception": false,
     "start_time": "2022-12-18T01:52:30.431215",
     "status": "completed"
    },
    "tags": []
   },
   "outputs": [
    {
     "data": {
      "text/plain": [
       "False    8460\n",
       "True     8460\n",
       "Name: delay_15, dtype: int64"
      ]
     },
     "execution_count": 36,
     "metadata": {},
     "output_type": "execute_result"
    }
   ],
   "source": [
    "#grouping by and using sample is a effective way to make 50/50 sample of the lowest value\n",
    "train=train.groupby(\"delay_15\").sample(train[train['delay_15']==True].shape[0])\n",
    "val=val.groupby(\"delay_15\").sample(val[val['delay_15']==True].shape[0])\n",
    "x_train_3=train[features]\n",
    "y_train_3=train['delay_15']\n",
    "x_val_3=val[features]\n",
    "y_val_3=val['delay_15']\n",
    "train['delay_15'].value_counts() #to compare with the previous cell (full value)"
   ]
  },
  {
   "cell_type": "code",
   "execution_count": 37,
   "id": "f2e9957d",
   "metadata": {
    "execution": {
     "iopub.execute_input": "2022-12-18T01:52:30.640377Z",
     "iopub.status.busy": "2022-12-18T01:52:30.639876Z",
     "iopub.status.idle": "2022-12-18T01:52:33.756694Z",
     "shell.execute_reply": "2022-12-18T01:52:33.755082Z"
    },
    "papermill": {
     "duration": 3.153113,
     "end_time": "2022-12-18T01:52:33.759217",
     "exception": false,
     "start_time": "2022-12-18T01:52:30.606104",
     "status": "completed"
    },
    "tags": []
   },
   "outputs": [
    {
     "name": "stderr",
     "output_type": "stream",
     "text": [
      "/opt/conda/lib/python3.7/site-packages/lightgbm/engine.py:181: UserWarning: 'early_stopping_rounds' argument is deprecated and will be removed in a future release of LightGBM. Pass 'early_stopping()' callback via 'callbacks' argument instead.\n",
      "  _log_warning(\"'early_stopping_rounds' argument is deprecated and will be removed in a future release of LightGBM. \"\n",
      "/opt/conda/lib/python3.7/site-packages/lightgbm/engine.py:239: UserWarning: 'verbose_eval' argument is deprecated and will be removed in a future release of LightGBM. Pass 'log_evaluation()' callback via 'callbacks' argument instead.\n",
      "  _log_warning(\"'verbose_eval' argument is deprecated and will be removed in a future release of LightGBM. \"\n",
      "/opt/conda/lib/python3.7/site-packages/lightgbm/basic.py:1780: UserWarning: Overriding the parameters from Reference Dataset.\n",
      "  _log_warning('Overriding the parameters from Reference Dataset.')\n",
      "/opt/conda/lib/python3.7/site-packages/lightgbm/basic.py:1513: UserWarning: categorical_column in param dict is overridden.\n",
      "  _log_warning(f'{cat_alias} in param dict is overridden.')\n"
     ]
    },
    {
     "name": "stdout",
     "output_type": "stream",
     "text": [
      "Training until validation scores don't improve for 50 rounds\n",
      "[50]\ttrain's auc: 0.710341\ttest's auc: 0.67691\n",
      "[100]\ttrain's auc: 0.71805\ttest's auc: 0.684282\n",
      "[150]\ttrain's auc: 0.723374\ttest's auc: 0.689988\n",
      "[200]\ttrain's auc: 0.727081\ttest's auc: 0.692978\n",
      "[250]\ttrain's auc: 0.729871\ttest's auc: 0.694659\n",
      "[300]\ttrain's auc: 0.732492\ttest's auc: 0.695371\n",
      "[350]\ttrain's auc: 0.734956\ttest's auc: 0.696267\n",
      "[400]\ttrain's auc: 0.737111\ttest's auc: 0.69653\n",
      "[450]\ttrain's auc: 0.739019\ttest's auc: 0.69717\n",
      "[500]\ttrain's auc: 0.740961\ttest's auc: 0.697276\n",
      "Early stopping, best iteration is:\n",
      "[488]\ttrain's auc: 0.740493\ttest's auc: 0.697378\n"
     ]
    },
    {
     "name": "stderr",
     "output_type": "stream",
     "text": [
      "/opt/conda/lib/python3.7/site-packages/ipykernel_launcher.py:36: SettingWithCopyWarning: \n",
      "A value is trying to be set on a copy of a slice from a DataFrame.\n",
      "Try using .loc[row_indexer,col_indexer] = value instead\n",
      "\n",
      "See the caveats in the documentation: https://pandas.pydata.org/pandas-docs/stable/user_guide/indexing.html#returning-a-view-versus-a-copy\n",
      "/opt/conda/lib/python3.7/site-packages/ipykernel_launcher.py:37: SettingWithCopyWarning: \n",
      "A value is trying to be set on a copy of a slice from a DataFrame.\n",
      "Try using .loc[row_indexer,col_indexer] = value instead\n",
      "\n",
      "See the caveats in the documentation: https://pandas.pydata.org/pandas-docs/stable/user_guide/indexing.html#returning-a-view-versus-a-copy\n"
     ]
    },
    {
     "data": {
      "image/png": "[encoded data removed]",
      "text/plain": [
       "<Figure size 432x288 with 1 Axes>"
      ]
     },
     "metadata": {
      "needs_background": "light"
     },
     "output_type": "display_data"
    },
    {
     "name": "stdout",
     "output_type": "stream",
     "text": [
      " AUC:  0.6926658292343109\n"
     ]
    }
   ],
   "source": [
    "#as we can see the model has a little of overfitting and the test dataset\n",
    "# has a great difference for train/val AUC\n",
    "#let's use the same params but with the random splitting for train/test\n",
    "#we are removing scale_pos_weight parameter because we have a 50/50 sample (scale_pos_weight=1)\n",
    "\n",
    "d_train = lgb.Dataset(x_train_3,y_train_3)\n",
    "d_valid = lgb.Dataset(x_val_3,y_val_3)\n",
    "\n",
    "#LightGBM uses variables with dtype='category' as categorical columns in the model (even if they are strings)\n",
    "params = {\n",
    "        'objective' :'binary',\n",
    "        'metric':'auc',\n",
    "        'learning_rate' :0.0151459,\n",
    "        'num_leaves' : 6,\n",
    "        'max_depth':3,\n",
    "        'feature_fraction': 0.75, \n",
    "        'bagging_fraction': 0.95, \n",
    "        'bagging_freq':4,\n",
    "        'max_bin':20,\n",
    "        'lambda_l1':4,\n",
    "        'lambda_l2':4,\n",
    "        'boosting_type' : 'gbdt',\n",
    "        'verbose':-1,\n",
    "        'min_data_in_leaf':20,\n",
    "       'min_gain_to_split':0.03\n",
    "    }\n",
    "bst = lgb.train(params,\n",
    "                d_train, \n",
    "                1000, \n",
    "               # valid_sets=[d_train], \n",
    "               # valid_names=[\"train\"],\n",
    "                valid_sets=[d_train,d_valid],\n",
    "                valid_names=[\"train\",\"test\"],\n",
    "                verbose_eval=50,\n",
    "                early_stopping_rounds=50)\n",
    "test[\"y_pred\"]=bst.predict(test[features])\n",
    "test[\"y_pred2\"]=(test[\"y_pred\"]>0.5).astype(bool)\n",
    "roc_pred=roc_auc_score(test[\"delay_15\"],test[\"y_pred\"])\n",
    "test.groupby(['delay_15'])['y_pred'].plot.hist(bins=20,stacked=True,alpha=0.3)\n",
    "plt.show()\n",
    "print(\" AUC: \", roc_pred)"
   ]
  },
  {
   "cell_type": "code",
   "execution_count": 38,
   "id": "f2d5f156",
   "metadata": {
    "execution": {
     "iopub.execute_input": "2022-12-18T01:52:33.827696Z",
     "iopub.status.busy": "2022-12-18T01:52:33.827184Z",
     "iopub.status.idle": "2022-12-18T01:52:33.832406Z",
     "shell.execute_reply": "2022-12-18T01:52:33.830969Z"
    },
    "papermill": {
     "duration": 0.042759,
     "end_time": "2022-12-18T01:52:33.834628",
     "exception": false,
     "start_time": "2022-12-18T01:52:33.791869",
     "status": "completed"
    },
    "tags": []
   },
   "outputs": [],
   "source": [
    "#as we can see, we have similar results on the three experiments\n",
    "#for convenience the next steps we are going to use our second (randomic) experiment\n"
   ]
  },
  {
   "cell_type": "code",
   "execution_count": 39,
   "id": "fa1b0110",
   "metadata": {
    "execution": {
     "iopub.execute_input": "2022-12-18T01:52:33.901791Z",
     "iopub.status.busy": "2022-12-18T01:52:33.901284Z",
     "iopub.status.idle": "2022-12-18T01:52:51.369596Z",
     "shell.execute_reply": "2022-12-18T01:52:51.368155Z"
    },
    "papermill": {
     "duration": 17.505128,
     "end_time": "2022-12-18T01:52:51.372274",
     "exception": false,
     "start_time": "2022-12-18T01:52:33.867146",
     "status": "completed"
    },
    "tags": []
   },
   "outputs": [
    {
     "name": "stderr",
     "output_type": "stream",
     "text": [
      "/opt/conda/lib/python3.7/site-packages/lightgbm/engine.py:181: UserWarning: 'early_stopping_rounds' argument is deprecated and will be removed in a future release of LightGBM. Pass 'early_stopping()' callback via 'callbacks' argument instead.\n",
      "  _log_warning(\"'early_stopping_rounds' argument is deprecated and will be removed in a future release of LightGBM. \"\n",
      "/opt/conda/lib/python3.7/site-packages/lightgbm/engine.py:239: UserWarning: 'verbose_eval' argument is deprecated and will be removed in a future release of LightGBM. Pass 'log_evaluation()' callback via 'callbacks' argument instead.\n",
      "  _log_warning(\"'verbose_eval' argument is deprecated and will be removed in a future release of LightGBM. \"\n",
      "/opt/conda/lib/python3.7/site-packages/lightgbm/basic.py:1780: UserWarning: Overriding the parameters from Reference Dataset.\n",
      "  _log_warning('Overriding the parameters from Reference Dataset.')\n",
      "/opt/conda/lib/python3.7/site-packages/lightgbm/basic.py:1513: UserWarning: categorical_column in param dict is overridden.\n",
      "  _log_warning(f'{cat_alias} in param dict is overridden.')\n"
     ]
    },
    {
     "name": "stdout",
     "output_type": "stream",
     "text": [
      "Training until validation scores don't improve for 50 rounds\n",
      "[200]\ttrain's auc: 0.744171\ttest's auc: 0.729376\n",
      "[400]\ttrain's auc: 0.760235\ttest's auc: 0.735497\n",
      "[600]\ttrain's auc: 0.775009\ttest's auc: 0.738659\n",
      "[800]\ttrain's auc: 0.788239\ttest's auc: 0.741039\n",
      "[1000]\ttrain's auc: 0.799952\ttest's auc: 0.742198\n",
      "Did not meet early stopping. Best iteration is:\n",
      "[1000]\ttrain's auc: 0.799952\ttest's auc: 0.742198\n"
     ]
    },
    {
     "name": "stderr",
     "output_type": "stream",
     "text": [
      "/opt/conda/lib/python3.7/site-packages/ipykernel_launcher.py:36: SettingWithCopyWarning: \n",
      "A value is trying to be set on a copy of a slice from a DataFrame.\n",
      "Try using .loc[row_indexer,col_indexer] = value instead\n",
      "\n",
      "See the caveats in the documentation: https://pandas.pydata.org/pandas-docs/stable/user_guide/indexing.html#returning-a-view-versus-a-copy\n",
      "/opt/conda/lib/python3.7/site-packages/ipykernel_launcher.py:37: SettingWithCopyWarning: \n",
      "A value is trying to be set on a copy of a slice from a DataFrame.\n",
      "Try using .loc[row_indexer,col_indexer] = value instead\n",
      "\n",
      "See the caveats in the documentation: https://pandas.pydata.org/pandas-docs/stable/user_guide/indexing.html#returning-a-view-versus-a-copy\n"
     ]
    },
    {
     "data": {
      "image/png": "[encoded data removed]",
      "text/plain": [
       "<Figure size 432x288 with 1 Axes>"
      ]
     },
     "metadata": {
      "needs_background": "light"
     },
     "output_type": "display_data"
    },
    {
     "name": "stdout",
     "output_type": "stream",
     "text": [
      " AUC:  0.7015331018642446\n"
     ]
    }
   ],
   "source": [
    "#let's try anothers hyperparameters\n",
    "\n",
    "#as we can see the model has a little of overfitting and the test dataset\n",
    "# has a great difference for train/val AUC\n",
    "#let's use the same params but with the random splitting for train/test\n",
    "\n",
    "d_train = lgb.Dataset(x_train_2,y_train_2)\n",
    "d_valid = lgb.Dataset(x_val_2,y_val_2)\n",
    "\n",
    "#LightGBM uses variables with dtype='category' as categorical columns in the model (even if they are strings)\n",
    "params = {\n",
    "        'objective' :'binary',\n",
    "        'metric':'auc',\n",
    "        'learning_rate' :0.01151459,\n",
    "        'num_leaves' : 30,\n",
    "        'max_depth':5,\n",
    "        'feature_fraction': 0.70, \n",
    "        'bagging_fraction': 0.80, \n",
    "        'bagging_freq':4,\n",
    "        'max_bin':5,\n",
    "        'lambda_l1':4,\n",
    "        'lambda_l2':4,\n",
    "        'boosting_type' : 'gbdt',\n",
    "        'verbose':-1,\n",
    "        'min_data_in_leaf':30,\n",
    "       'min_gain_to_split':0.003,\n",
    "     'scale_pos_weight':sc_pos_w_value\n",
    "    }\n",
    "bst = lgb.train(params,\n",
    "                d_train, \n",
    "                1000,\n",
    "                valid_sets=[d_train,d_valid],\n",
    "                valid_names=[\"train\",\"test\"],\n",
    "                verbose_eval=200,\n",
    "                early_stopping_rounds=50)\n",
    "test[\"y_pred\"]=bst.predict(test[features])\n",
    "test[\"y_pred2\"]=(test[\"y_pred\"]>0.5).astype(bool)\n",
    "roc_pred=roc_auc_score(test[\"delay_15\"],test[\"y_pred\"])\n",
    "test.groupby(['delay_15'])['y_pred'].plot.hist(bins=20,stacked=True,alpha=0.3)\n",
    "plt.show()\n",
    "print(\" AUC: \", roc_pred)"
   ]
  },
  {
   "cell_type": "code",
   "execution_count": 40,
   "id": "7cf69807",
   "metadata": {
    "execution": {
     "iopub.execute_input": "2022-12-18T01:52:51.445200Z",
     "iopub.status.busy": "2022-12-18T01:52:51.443893Z",
     "iopub.status.idle": "2022-12-18T01:52:51.917144Z",
     "shell.execute_reply": "2022-12-18T01:52:51.915980Z"
    },
    "papermill": {
     "duration": 0.512521,
     "end_time": "2022-12-18T01:52:51.919923",
     "exception": false,
     "start_time": "2022-12-18T01:52:51.407402",
     "status": "completed"
    },
    "tags": []
   },
   "outputs": [
    {
     "data": {
      "text/plain": [
       "<AxesSubplot:>"
      ]
     },
     "execution_count": 40,
     "metadata": {},
     "output_type": "execute_result"
    },
    {
     "data": {
      "image/png": "[encoded data removed]",
      "text/plain": [
       "<Figure size 576x720 with 1 Axes>"
      ]
     },
     "metadata": {
      "needs_background": "light"
     },
     "output_type": "display_data"
    }
   ],
   "source": [
    "feat_imp = pd.Series(bst.feature_importance(), index=x_train.columns)\n",
    "feat_imp.nlargest(30).sort_values(ascending=True).plot(kind='barh', figsize=(8,10))"
   ]
  },
  {
   "cell_type": "code",
   "execution_count": 41,
   "id": "06345a0d",
   "metadata": {
    "execution": {
     "iopub.execute_input": "2022-12-18T01:52:51.995856Z",
     "iopub.status.busy": "2022-12-18T01:52:51.995424Z",
     "iopub.status.idle": "2022-12-18T01:54:35.332877Z",
     "shell.execute_reply": "2022-12-18T01:54:35.331388Z"
    },
    "papermill": {
     "duration": 103.378783,
     "end_time": "2022-12-18T01:54:35.335696",
     "exception": false,
     "start_time": "2022-12-18T01:52:51.956913",
     "status": "completed"
    },
    "tags": []
   },
   "outputs": [
    {
     "name": "stderr",
     "output_type": "stream",
     "text": [
      "/opt/conda/lib/python3.7/site-packages/ipykernel_launcher.py:7: FutureWarning: Comparison of Timestamp with datetime.date is deprecated in order to match the standard library behavior.  In a future version these will be considered non-comparable.Use 'ts == pd.Timestamp(date)' or 'ts.date() == date' instead.\n",
      "  import sys\n",
      "/opt/conda/lib/python3.7/site-packages/lightgbm/engine.py:181: UserWarning: 'early_stopping_rounds' argument is deprecated and will be removed in a future release of LightGBM. Pass 'early_stopping()' callback via 'callbacks' argument instead.\n",
      "  _log_warning(\"'early_stopping_rounds' argument is deprecated and will be removed in a future release of LightGBM. \"\n",
      "/opt/conda/lib/python3.7/site-packages/lightgbm/engine.py:239: UserWarning: 'verbose_eval' argument is deprecated and will be removed in a future release of LightGBM. Pass 'log_evaluation()' callback via 'callbacks' argument instead.\n",
      "  _log_warning(\"'verbose_eval' argument is deprecated and will be removed in a future release of LightGBM. \"\n",
      "/opt/conda/lib/python3.7/site-packages/lightgbm/basic.py:1780: UserWarning: Overriding the parameters from Reference Dataset.\n",
      "  _log_warning('Overriding the parameters from Reference Dataset.')\n",
      "/opt/conda/lib/python3.7/site-packages/lightgbm/basic.py:1513: UserWarning: categorical_column in param dict is overridden.\n",
      "  _log_warning(f'{cat_alias} in param dict is overridden.')\n"
     ]
    },
    {
     "name": "stdout",
     "output_type": "stream",
     "text": [
      "Training until validation scores don't improve for 50 rounds\n",
      "[200]\ttrain's auc: 0.742528\ttest's auc: 0.718521\n",
      "[400]\ttrain's auc: 0.757233\ttest's auc: 0.724206\n",
      "[600]\ttrain's auc: 0.769815\ttest's auc: 0.726753\n",
      "[800]\ttrain's auc: 0.780601\ttest's auc: 0.728314\n",
      "[1000]\ttrain's auc: 0.789484\ttest's auc: 0.729006\n",
      "[1200]\ttrain's auc: 0.797999\ttest's auc: 0.730443\n",
      "[1400]\ttrain's auc: 0.806011\ttest's auc: 0.732313\n",
      "[1600]\ttrain's auc: 0.813478\ttest's auc: 0.733209\n",
      "Early stopping, best iteration is:\n",
      "[1636]\ttrain's auc: 0.814616\ttest's auc: 0.733623\n"
     ]
    },
    {
     "name": "stderr",
     "output_type": "stream",
     "text": [
      "/opt/conda/lib/python3.7/site-packages/ipykernel_launcher.py:43: SettingWithCopyWarning: \n",
      "A value is trying to be set on a copy of a slice from a DataFrame.\n",
      "Try using .loc[row_indexer,col_indexer] = value instead\n",
      "\n",
      "See the caveats in the documentation: https://pandas.pydata.org/pandas-docs/stable/user_guide/indexing.html#returning-a-view-versus-a-copy\n"
     ]
    },
    {
     "name": "stdout",
     "output_type": "stream",
     "text": [
      "Fold: 0 auc: 0.6999542981302713\n"
     ]
    },
    {
     "name": "stderr",
     "output_type": "stream",
     "text": [
      "/opt/conda/lib/python3.7/site-packages/ipykernel_launcher.py:48: SettingWithCopyWarning: \n",
      "A value is trying to be set on a copy of a slice from a DataFrame.\n",
      "Try using .loc[row_indexer,col_indexer] = value instead\n",
      "\n",
      "See the caveats in the documentation: https://pandas.pydata.org/pandas-docs/stable/user_guide/indexing.html#returning-a-view-versus-a-copy\n",
      "/opt/conda/lib/python3.7/site-packages/lightgbm/engine.py:181: UserWarning: 'early_stopping_rounds' argument is deprecated and will be removed in a future release of LightGBM. Pass 'early_stopping()' callback via 'callbacks' argument instead.\n",
      "  _log_warning(\"'early_stopping_rounds' argument is deprecated and will be removed in a future release of LightGBM. \"\n",
      "/opt/conda/lib/python3.7/site-packages/lightgbm/engine.py:239: UserWarning: 'verbose_eval' argument is deprecated and will be removed in a future release of LightGBM. Pass 'log_evaluation()' callback via 'callbacks' argument instead.\n",
      "  _log_warning(\"'verbose_eval' argument is deprecated and will be removed in a future release of LightGBM. \"\n",
      "/opt/conda/lib/python3.7/site-packages/lightgbm/basic.py:1780: UserWarning: Overriding the parameters from Reference Dataset.\n",
      "  _log_warning('Overriding the parameters from Reference Dataset.')\n",
      "/opt/conda/lib/python3.7/site-packages/lightgbm/basic.py:1513: UserWarning: categorical_column in param dict is overridden.\n",
      "  _log_warning(f'{cat_alias} in param dict is overridden.')\n"
     ]
    },
    {
     "name": "stdout",
     "output_type": "stream",
     "text": [
      "Training until validation scores don't improve for 50 rounds\n",
      "[200]\ttrain's auc: 0.739628\ttest's auc: 0.726248\n",
      "[400]\ttrain's auc: 0.754639\ttest's auc: 0.731412\n",
      "[600]\ttrain's auc: 0.766961\ttest's auc: 0.734462\n",
      "[800]\ttrain's auc: 0.77772\ttest's auc: 0.736801\n",
      "[1000]\ttrain's auc: 0.787253\ttest's auc: 0.738349\n",
      "[1200]\ttrain's auc: 0.79554\ttest's auc: 0.739416\n",
      "[1400]\ttrain's auc: 0.803045\ttest's auc: 0.740699\n",
      "[1600]\ttrain's auc: 0.810006\ttest's auc: 0.741164\n",
      "Early stopping, best iteration is:\n",
      "[1636]\ttrain's auc: 0.811461\ttest's auc: 0.741333\n"
     ]
    },
    {
     "name": "stderr",
     "output_type": "stream",
     "text": [
      "/opt/conda/lib/python3.7/site-packages/ipykernel_launcher.py:43: SettingWithCopyWarning: \n",
      "A value is trying to be set on a copy of a slice from a DataFrame.\n",
      "Try using .loc[row_indexer,col_indexer] = value instead\n",
      "\n",
      "See the caveats in the documentation: https://pandas.pydata.org/pandas-docs/stable/user_guide/indexing.html#returning-a-view-versus-a-copy\n",
      "/opt/conda/lib/python3.7/site-packages/ipykernel_launcher.py:48: SettingWithCopyWarning: \n",
      "A value is trying to be set on a copy of a slice from a DataFrame.\n",
      "Try using .loc[row_indexer,col_indexer] = value instead\n",
      "\n",
      "See the caveats in the documentation: https://pandas.pydata.org/pandas-docs/stable/user_guide/indexing.html#returning-a-view-versus-a-copy\n"
     ]
    },
    {
     "name": "stdout",
     "output_type": "stream",
     "text": [
      "Fold: 1 auc: 0.6976947976908804\n"
     ]
    },
    {
     "name": "stderr",
     "output_type": "stream",
     "text": [
      "/opt/conda/lib/python3.7/site-packages/lightgbm/engine.py:181: UserWarning: 'early_stopping_rounds' argument is deprecated and will be removed in a future release of LightGBM. Pass 'early_stopping()' callback via 'callbacks' argument instead.\n",
      "  _log_warning(\"'early_stopping_rounds' argument is deprecated and will be removed in a future release of LightGBM. \"\n",
      "/opt/conda/lib/python3.7/site-packages/lightgbm/engine.py:239: UserWarning: 'verbose_eval' argument is deprecated and will be removed in a future release of LightGBM. Pass 'log_evaluation()' callback via 'callbacks' argument instead.\n",
      "  _log_warning(\"'verbose_eval' argument is deprecated and will be removed in a future release of LightGBM. \"\n",
      "/opt/conda/lib/python3.7/site-packages/lightgbm/basic.py:1780: UserWarning: Overriding the parameters from Reference Dataset.\n",
      "  _log_warning('Overriding the parameters from Reference Dataset.')\n",
      "/opt/conda/lib/python3.7/site-packages/lightgbm/basic.py:1513: UserWarning: categorical_column in param dict is overridden.\n",
      "  _log_warning(f'{cat_alias} in param dict is overridden.')\n"
     ]
    },
    {
     "name": "stdout",
     "output_type": "stream",
     "text": [
      "Training until validation scores don't improve for 50 rounds\n",
      "[200]\ttrain's auc: 0.742203\ttest's auc: 0.720934\n",
      "[400]\ttrain's auc: 0.756859\ttest's auc: 0.726079\n",
      "[600]\ttrain's auc: 0.768716\ttest's auc: 0.729045\n",
      "[800]\ttrain's auc: 0.779437\ttest's auc: 0.731417\n",
      "[1000]\ttrain's auc: 0.788801\ttest's auc: 0.733153\n",
      "[1200]\ttrain's auc: 0.797302\ttest's auc: 0.734199\n",
      "Early stopping, best iteration is:\n",
      "[1316]\ttrain's auc: 0.801823\ttest's auc: 0.734965\n"
     ]
    },
    {
     "name": "stderr",
     "output_type": "stream",
     "text": [
      "/opt/conda/lib/python3.7/site-packages/ipykernel_launcher.py:43: SettingWithCopyWarning: \n",
      "A value is trying to be set on a copy of a slice from a DataFrame.\n",
      "Try using .loc[row_indexer,col_indexer] = value instead\n",
      "\n",
      "See the caveats in the documentation: https://pandas.pydata.org/pandas-docs/stable/user_guide/indexing.html#returning-a-view-versus-a-copy\n",
      "/opt/conda/lib/python3.7/site-packages/ipykernel_launcher.py:48: SettingWithCopyWarning: \n",
      "A value is trying to be set on a copy of a slice from a DataFrame.\n",
      "Try using .loc[row_indexer,col_indexer] = value instead\n",
      "\n",
      "See the caveats in the documentation: https://pandas.pydata.org/pandas-docs/stable/user_guide/indexing.html#returning-a-view-versus-a-copy\n",
      "/opt/conda/lib/python3.7/site-packages/lightgbm/engine.py:181: UserWarning: 'early_stopping_rounds' argument is deprecated and will be removed in a future release of LightGBM. Pass 'early_stopping()' callback via 'callbacks' argument instead.\n",
      "  _log_warning(\"'early_stopping_rounds' argument is deprecated and will be removed in a future release of LightGBM. \"\n",
      "/opt/conda/lib/python3.7/site-packages/lightgbm/engine.py:239: UserWarning: 'verbose_eval' argument is deprecated and will be removed in a future release of LightGBM. Pass 'log_evaluation()' callback via 'callbacks' argument instead.\n",
      "  _log_warning(\"'verbose_eval' argument is deprecated and will be removed in a future release of LightGBM. \"\n"
     ]
    },
    {
     "name": "stdout",
     "output_type": "stream",
     "text": [
      "Fold: 2 auc: 0.6999567790889136\n"
     ]
    },
    {
     "name": "stderr",
     "output_type": "stream",
     "text": [
      "/opt/conda/lib/python3.7/site-packages/lightgbm/basic.py:1780: UserWarning: Overriding the parameters from Reference Dataset.\n",
      "  _log_warning('Overriding the parameters from Reference Dataset.')\n",
      "/opt/conda/lib/python3.7/site-packages/lightgbm/basic.py:1513: UserWarning: categorical_column in param dict is overridden.\n",
      "  _log_warning(f'{cat_alias} in param dict is overridden.')\n"
     ]
    },
    {
     "name": "stdout",
     "output_type": "stream",
     "text": [
      "Training until validation scores don't improve for 50 rounds\n",
      "[200]\ttrain's auc: 0.739306\ttest's auc: 0.729432\n",
      "[400]\ttrain's auc: 0.75471\ttest's auc: 0.735538\n",
      "[600]\ttrain's auc: 0.767997\ttest's auc: 0.739396\n",
      "[800]\ttrain's auc: 0.779552\ttest's auc: 0.741852\n",
      "Early stopping, best iteration is:\n",
      "[912]\ttrain's auc: 0.784894\ttest's auc: 0.742672\n"
     ]
    },
    {
     "name": "stderr",
     "output_type": "stream",
     "text": [
      "/opt/conda/lib/python3.7/site-packages/ipykernel_launcher.py:43: SettingWithCopyWarning: \n",
      "A value is trying to be set on a copy of a slice from a DataFrame.\n",
      "Try using .loc[row_indexer,col_indexer] = value instead\n",
      "\n",
      "See the caveats in the documentation: https://pandas.pydata.org/pandas-docs/stable/user_guide/indexing.html#returning-a-view-versus-a-copy\n"
     ]
    },
    {
     "name": "stdout",
     "output_type": "stream",
     "text": [
      "Fold: 3 auc: 0.7026755180306934\n"
     ]
    },
    {
     "name": "stderr",
     "output_type": "stream",
     "text": [
      "/opt/conda/lib/python3.7/site-packages/ipykernel_launcher.py:48: SettingWithCopyWarning: \n",
      "A value is trying to be set on a copy of a slice from a DataFrame.\n",
      "Try using .loc[row_indexer,col_indexer] = value instead\n",
      "\n",
      "See the caveats in the documentation: https://pandas.pydata.org/pandas-docs/stable/user_guide/indexing.html#returning-a-view-versus-a-copy\n",
      "/opt/conda/lib/python3.7/site-packages/lightgbm/engine.py:181: UserWarning: 'early_stopping_rounds' argument is deprecated and will be removed in a future release of LightGBM. Pass 'early_stopping()' callback via 'callbacks' argument instead.\n",
      "  _log_warning(\"'early_stopping_rounds' argument is deprecated and will be removed in a future release of LightGBM. \"\n",
      "/opt/conda/lib/python3.7/site-packages/lightgbm/engine.py:239: UserWarning: 'verbose_eval' argument is deprecated and will be removed in a future release of LightGBM. Pass 'log_evaluation()' callback via 'callbacks' argument instead.\n",
      "  _log_warning(\"'verbose_eval' argument is deprecated and will be removed in a future release of LightGBM. \"\n",
      "/opt/conda/lib/python3.7/site-packages/lightgbm/basic.py:1780: UserWarning: Overriding the parameters from Reference Dataset.\n",
      "  _log_warning('Overriding the parameters from Reference Dataset.')\n",
      "/opt/conda/lib/python3.7/site-packages/lightgbm/basic.py:1513: UserWarning: categorical_column in param dict is overridden.\n",
      "  _log_warning(f'{cat_alias} in param dict is overridden.')\n"
     ]
    },
    {
     "name": "stdout",
     "output_type": "stream",
     "text": [
      "Training until validation scores don't improve for 50 rounds\n",
      "[200]\ttrain's auc: 0.739926\ttest's auc: 0.731213\n",
      "[400]\ttrain's auc: 0.754269\ttest's auc: 0.734579\n",
      "[600]\ttrain's auc: 0.76639\ttest's auc: 0.737785\n",
      "[800]\ttrain's auc: 0.77712\ttest's auc: 0.739655\n",
      "[1000]\ttrain's auc: 0.78621\ttest's auc: 0.741395\n",
      "[1200]\ttrain's auc: 0.795079\ttest's auc: 0.742885\n",
      "[1400]\ttrain's auc: 0.803233\ttest's auc: 0.744104\n",
      "Early stopping, best iteration is:\n",
      "[1368]\ttrain's auc: 0.801991\ttest's auc: 0.744279\n"
     ]
    },
    {
     "name": "stderr",
     "output_type": "stream",
     "text": [
      "/opt/conda/lib/python3.7/site-packages/ipykernel_launcher.py:43: SettingWithCopyWarning: \n",
      "A value is trying to be set on a copy of a slice from a DataFrame.\n",
      "Try using .loc[row_indexer,col_indexer] = value instead\n",
      "\n",
      "See the caveats in the documentation: https://pandas.pydata.org/pandas-docs/stable/user_guide/indexing.html#returning-a-view-versus-a-copy\n",
      "/opt/conda/lib/python3.7/site-packages/ipykernel_launcher.py:48: SettingWithCopyWarning: \n",
      "A value is trying to be set on a copy of a slice from a DataFrame.\n",
      "Try using .loc[row_indexer,col_indexer] = value instead\n",
      "\n",
      "See the caveats in the documentation: https://pandas.pydata.org/pandas-docs/stable/user_guide/indexing.html#returning-a-view-versus-a-copy\n"
     ]
    },
    {
     "name": "stdout",
     "output_type": "stream",
     "text": [
      "Fold: 4 auc: 0.7011996087919952\n",
      "all auc: 0.7036805674344146\n"
     ]
    },
    {
     "data": {
      "image/png": "[encoded data removed]",
      "text/plain": [
       "<Figure size 432x288 with 1 Axes>"
      ]
     },
     "metadata": {
      "needs_background": "light"
     },
     "output_type": "display_data"
    }
   ],
   "source": [
    "import gc\n",
    "#Since this is not a ultra low latency model and we have small number of observations(data),\n",
    "#we can use kfold to maximize the chance of finding a particular situation for delay\n",
    "#KFold is a common practice nowadays, which means subdividing the dataset in n folds and create n models with every data belonging on the train dataset and test dataset at the same time\n",
    "num_folds=5\n",
    "folds = KFold(n_splits= num_folds, shuffle=True, random_state=47)\n",
    "train=df2[df2.index.date<pd.to_datetime('2017-12-01')] #keeping the test dataset with december (and outside of our model)\n",
    "\n",
    "outs=[]\n",
    "\n",
    "for n_fold, (train_idx, valid_idx) in enumerate(folds.split(train[features], train['delay_15'])):\n",
    "    x_train, y_train = train[features].iloc[train_idx], train['delay_15'].iloc[train_idx]\n",
    "    x_valid, y_valid = train[features].iloc[valid_idx], train['delay_15'].iloc[valid_idx]\n",
    "    \n",
    "    d_train = lgb.Dataset(x_train,y_train)\n",
    "    d_valid = lgb.Dataset(x_valid,y_valid)\n",
    "    params = {\n",
    "            'objective' :'binary',\n",
    "            'metric':'auc',\n",
    "            'learning_rate' :0.02151459,\n",
    "            'num_leaves' : 10,\n",
    "            'max_depth':4,\n",
    "            'feature_fraction': 0.90, \n",
    "            'bagging_fraction': 0.90, \n",
    "            'bagging_freq':4,\n",
    "            'max_bin':40,\n",
    "            'lambda_l1':4,\n",
    "            'lambda_l2':4,\n",
    "            'boosting_type' : 'gbdt',\n",
    "            'verbose':-1,\n",
    "            'min_data_in_leaf':50,\n",
    "           'min_gain_to_split':0.005,\n",
    "         'scale_pos_weight':sc_pos_w_value\n",
    "        }\n",
    "    bst = lgb.train(params,\n",
    "                    d_train, \n",
    "                    2000,\n",
    "                    valid_sets=[d_train,d_valid],\n",
    "                    valid_names=[\"train\",\"test\"],\n",
    "                    verbose_eval=200,\n",
    "                    early_stopping_rounds=50)\n",
    "    \n",
    "    test[f\"y_pred_kfold_{n_fold}\"]=bst.predict(test[features])\n",
    "    print(f'Fold: {n_fold} auc: {roc_auc_score(test[\"delay_15\"],test[f\"y_pred_kfold_{n_fold}\"])}')\n",
    "    outs.append(f\"y_pred_kfold_{n_fold}\") # so we can calculate the auc of the mean of every model\n",
    "    del x_train,x_valid,y_train,y_valid,d_train,d_valid\n",
    "    gc.collect()\n",
    "    test['y_pred_kfold']=test[outs].mean(axis=1)\n",
    "print(f'all auc: {roc_auc_score(test[\"delay_15\"],test[\"y_pred_kfold\"])}')\n",
    "test.groupby(['delay_15'])['y_pred_kfold'].plot.hist(bins=20,stacked=True,alpha=0.3)\n",
    "plt.show()\n",
    "\n",
    "\n",
    "    "
   ]
  },
  {
   "cell_type": "markdown",
   "id": "d2ca0db9",
   "metadata": {
    "execution": {
     "iopub.execute_input": "2022-12-18T01:37:37.592553Z",
     "iopub.status.busy": "2022-12-18T01:37:37.591392Z",
     "iopub.status.idle": "2022-12-18T01:37:37.597157Z",
     "shell.execute_reply": "2022-12-18T01:37:37.595916Z",
     "shell.execute_reply.started": "2022-12-18T01:37:37.592496Z"
    },
    "papermill": {
     "duration": 0.039386,
     "end_time": "2022-12-18T01:54:35.415733",
     "exception": false,
     "start_time": "2022-12-18T01:54:35.376347",
     "status": "completed"
    },
    "tags": []
   },
   "source": [
    "I apologize for this cell, I did not had time to work on these challenge this week I had personal problems, a lot going on my own job and the biggest is coding in my iPad without keyboard.\n",
    "\n",
    "Wish I could've give you guys  more detail of everything that happened on this notebook.\n",
    "\n",
    "\n",
    "things I can do that I didn't do:\n",
    "* arima model (time series model could even be a feature of the delay model)\n",
    "* zoom on the history of flight number (is daily,weekly.. rate of delay)\n",
    "* holiday dates on chile and the destination ( is holiday/ is sunday(day of week) after/before holiday)\n",
    "* apply analysis of delay time series, maybe a fourier transform could indicate a harmonic of futures delays\n"
   ]
  },
  {
   "cell_type": "code",
   "execution_count": 42,
   "id": "5d952c73",
   "metadata": {
    "execution": {
     "iopub.execute_input": "2022-12-18T01:54:35.497354Z",
     "iopub.status.busy": "2022-12-18T01:54:35.496961Z",
     "iopub.status.idle": "2022-12-18T01:54:35.532533Z",
     "shell.execute_reply": "2022-12-18T01:54:35.531257Z"
    },
    "papermill": {
     "duration": 0.079612,
     "end_time": "2022-12-18T01:54:35.535132",
     "exception": false,
     "start_time": "2022-12-18T01:54:35.455520",
     "status": "completed"
    },
    "tags": []
   },
   "outputs": [
    {
     "data": {
      "text/html": [
       "<div>\n",
       "<style scoped>\n",
       "    .dataframe tbody tr th:only-of-type {\n",
       "        vertical-align: middle;\n",
       "    }\n",
       "\n",
       "    .dataframe tbody tr th {\n",
       "        vertical-align: top;\n",
       "    }\n",
       "\n",
       "    .dataframe thead th {\n",
       "        text-align: right;\n",
       "    }\n",
       "</style>\n",
       "<table border=\"1\" class=\"dataframe\">\n",
       "  <thead>\n",
       "    <tr style=\"text-align: right;\">\n",
       "      <th></th>\n",
       "      <th>Vlo-I</th>\n",
       "      <th>Ori-I</th>\n",
       "      <th>Des-I</th>\n",
       "      <th>Emp-I</th>\n",
       "      <th>Fecha-O</th>\n",
       "      <th>Vlo-O</th>\n",
       "      <th>Ori-O</th>\n",
       "      <th>Des-O</th>\n",
       "      <th>Emp-O</th>\n",
       "      <th>DIA</th>\n",
       "      <th>...</th>\n",
       "      <th>qtd_flights_is_top_5_airlines_delay_and_delay_15_12h</th>\n",
       "      <th>qtd_flights_is_top_10_airlines_delay_and_delay_15_12h</th>\n",
       "      <th>qtd_flights_is_top_5_airlines_delay_18h</th>\n",
       "      <th>qtd_flights_is_top_10_airlines_delay_18h</th>\n",
       "      <th>qtd_flights_is_top_5_airlines_delay_and_delay_15_18h</th>\n",
       "      <th>qtd_flights_is_top_10_airlines_delay_and_delay_15_18h</th>\n",
       "      <th>qtd_flights_is_top_5_airlines_delay_24h</th>\n",
       "      <th>qtd_flights_is_top_10_airlines_delay_24h</th>\n",
       "      <th>qtd_flights_is_top_5_airlines_delay_and_delay_15_24h</th>\n",
       "      <th>qtd_flights_is_top_10_airlines_delay_and_delay_15_24h</th>\n",
       "    </tr>\n",
       "    <tr>\n",
       "      <th>Fecha-I</th>\n",
       "      <th></th>\n",
       "      <th></th>\n",
       "      <th></th>\n",
       "      <th></th>\n",
       "      <th></th>\n",
       "      <th></th>\n",
       "      <th></th>\n",
       "      <th></th>\n",
       "      <th></th>\n",
       "      <th></th>\n",
       "      <th></th>\n",
       "      <th></th>\n",
       "      <th></th>\n",
       "      <th></th>\n",
       "      <th></th>\n",
       "      <th></th>\n",
       "      <th></th>\n",
       "      <th></th>\n",
       "      <th></th>\n",
       "      <th></th>\n",
       "      <th></th>\n",
       "    </tr>\n",
       "  </thead>\n",
       "  <tbody>\n",
       "    <tr>\n",
       "      <th>2017-01-01 00:15:00</th>\n",
       "      <td>11</td>\n",
       "      <td>SCEL</td>\n",
       "      <td>MMMX</td>\n",
       "      <td>AMX</td>\n",
       "      <td>2017-01-01 00:04:00</td>\n",
       "      <td>11</td>\n",
       "      <td>SCEL</td>\n",
       "      <td>MMMX</td>\n",
       "      <td>AMX</td>\n",
       "      <td>1</td>\n",
       "      <td>...</td>\n",
       "      <td>NaN</td>\n",
       "      <td>NaN</td>\n",
       "      <td>NaN</td>\n",
       "      <td>NaN</td>\n",
       "      <td>NaN</td>\n",
       "      <td>NaN</td>\n",
       "      <td>NaN</td>\n",
       "      <td>NaN</td>\n",
       "      <td>NaN</td>\n",
       "      <td>NaN</td>\n",
       "    </tr>\n",
       "    <tr>\n",
       "      <th>2017-01-01 01:15:00</th>\n",
       "      <td>572</td>\n",
       "      <td>SCEL</td>\n",
       "      <td>SKBO</td>\n",
       "      <td>LAN</td>\n",
       "      <td>2017-01-01 01:10:00</td>\n",
       "      <td>572</td>\n",
       "      <td>SCEL</td>\n",
       "      <td>SKBO</td>\n",
       "      <td>LAN</td>\n",
       "      <td>1</td>\n",
       "      <td>...</td>\n",
       "      <td>0.0</td>\n",
       "      <td>0.0</td>\n",
       "      <td>0.0</td>\n",
       "      <td>0.0</td>\n",
       "      <td>0.0</td>\n",
       "      <td>0.0</td>\n",
       "      <td>0.0</td>\n",
       "      <td>0.0</td>\n",
       "      <td>0.0</td>\n",
       "      <td>0.0</td>\n",
       "    </tr>\n",
       "    <tr>\n",
       "      <th>2017-01-01 01:23:00</th>\n",
       "      <td>495</td>\n",
       "      <td>SCEL</td>\n",
       "      <td>MPTO</td>\n",
       "      <td>CMP</td>\n",
       "      <td>2017-01-01 01:29:00</td>\n",
       "      <td>495</td>\n",
       "      <td>SCEL</td>\n",
       "      <td>MPTO</td>\n",
       "      <td>CMP</td>\n",
       "      <td>1</td>\n",
       "      <td>...</td>\n",
       "      <td>0.0</td>\n",
       "      <td>0.0</td>\n",
       "      <td>0.0</td>\n",
       "      <td>1.0</td>\n",
       "      <td>0.0</td>\n",
       "      <td>0.0</td>\n",
       "      <td>0.0</td>\n",
       "      <td>1.0</td>\n",
       "      <td>0.0</td>\n",
       "      <td>0.0</td>\n",
       "    </tr>\n",
       "    <tr>\n",
       "      <th>2017-01-01 01:33:00</th>\n",
       "      <td>240</td>\n",
       "      <td>SCEL</td>\n",
       "      <td>SKBO</td>\n",
       "      <td>AVA</td>\n",
       "      <td>2017-01-01 01:38:00</td>\n",
       "      <td>240</td>\n",
       "      <td>SCEL</td>\n",
       "      <td>SKBO</td>\n",
       "      <td>AVA</td>\n",
       "      <td>1</td>\n",
       "      <td>...</td>\n",
       "      <td>0.0</td>\n",
       "      <td>0.0</td>\n",
       "      <td>0.0</td>\n",
       "      <td>1.0</td>\n",
       "      <td>0.0</td>\n",
       "      <td>0.0</td>\n",
       "      <td>0.0</td>\n",
       "      <td>1.0</td>\n",
       "      <td>0.0</td>\n",
       "      <td>0.0</td>\n",
       "    </tr>\n",
       "    <tr>\n",
       "      <th>2017-01-01 01:42:00</th>\n",
       "      <td>276</td>\n",
       "      <td>SCEL</td>\n",
       "      <td>MPTO</td>\n",
       "      <td>CMP</td>\n",
       "      <td>2017-01-01 01:40:00</td>\n",
       "      <td>276</td>\n",
       "      <td>SCEL</td>\n",
       "      <td>MPTO</td>\n",
       "      <td>CMP</td>\n",
       "      <td>1</td>\n",
       "      <td>...</td>\n",
       "      <td>0.0</td>\n",
       "      <td>0.0</td>\n",
       "      <td>0.0</td>\n",
       "      <td>2.0</td>\n",
       "      <td>0.0</td>\n",
       "      <td>0.0</td>\n",
       "      <td>0.0</td>\n",
       "      <td>2.0</td>\n",
       "      <td>0.0</td>\n",
       "      <td>0.0</td>\n",
       "    </tr>\n",
       "  </tbody>\n",
       "</table>\n",
       "<p>5 rows × 76 columns</p>\n",
       "</div>"
      ],
      "text/plain": [
       "                    Vlo-I Ori-I Des-I Emp-I             Fecha-O Vlo-O Ori-O  \\\n",
       "Fecha-I                                                                       \n",
       "2017-01-01 00:15:00    11  SCEL  MMMX   AMX 2017-01-01 00:04:00    11  SCEL   \n",
       "2017-01-01 01:15:00   572  SCEL  SKBO   LAN 2017-01-01 01:10:00   572  SCEL   \n",
       "2017-01-01 01:23:00   495  SCEL  MPTO   CMP 2017-01-01 01:29:00   495  SCEL   \n",
       "2017-01-01 01:33:00   240  SCEL  SKBO   AVA 2017-01-01 01:38:00   240  SCEL   \n",
       "2017-01-01 01:42:00   276  SCEL  MPTO   CMP 2017-01-01 01:40:00   276  SCEL   \n",
       "\n",
       "                    Des-O Emp-O  DIA  ...  \\\n",
       "Fecha-I                               ...   \n",
       "2017-01-01 00:15:00  MMMX   AMX    1  ...   \n",
       "2017-01-01 01:15:00  SKBO   LAN    1  ...   \n",
       "2017-01-01 01:23:00  MPTO   CMP    1  ...   \n",
       "2017-01-01 01:33:00  SKBO   AVA    1  ...   \n",
       "2017-01-01 01:42:00  MPTO   CMP    1  ...   \n",
       "\n",
       "                     qtd_flights_is_top_5_airlines_delay_and_delay_15_12h  \\\n",
       "Fecha-I                                                                     \n",
       "2017-01-01 00:15:00                                                NaN      \n",
       "2017-01-01 01:15:00                                                0.0      \n",
       "2017-01-01 01:23:00                                                0.0      \n",
       "2017-01-01 01:33:00                                                0.0      \n",
       "2017-01-01 01:42:00                                                0.0      \n",
       "\n",
       "                     qtd_flights_is_top_10_airlines_delay_and_delay_15_12h  \\\n",
       "Fecha-I                                                                      \n",
       "2017-01-01 00:15:00                                                NaN       \n",
       "2017-01-01 01:15:00                                                0.0       \n",
       "2017-01-01 01:23:00                                                0.0       \n",
       "2017-01-01 01:33:00                                                0.0       \n",
       "2017-01-01 01:42:00                                                0.0       \n",
       "\n",
       "                    qtd_flights_is_top_5_airlines_delay_18h  \\\n",
       "Fecha-I                                                       \n",
       "2017-01-01 00:15:00                                     NaN   \n",
       "2017-01-01 01:15:00                                     0.0   \n",
       "2017-01-01 01:23:00                                     0.0   \n",
       "2017-01-01 01:33:00                                     0.0   \n",
       "2017-01-01 01:42:00                                     0.0   \n",
       "\n",
       "                    qtd_flights_is_top_10_airlines_delay_18h  \\\n",
       "Fecha-I                                                        \n",
       "2017-01-01 00:15:00                                      NaN   \n",
       "2017-01-01 01:15:00                                      0.0   \n",
       "2017-01-01 01:23:00                                      1.0   \n",
       "2017-01-01 01:33:00                                      1.0   \n",
       "2017-01-01 01:42:00                                      2.0   \n",
       "\n",
       "                    qtd_flights_is_top_5_airlines_delay_and_delay_15_18h  \\\n",
       "Fecha-I                                                                    \n",
       "2017-01-01 00:15:00                                                NaN     \n",
       "2017-01-01 01:15:00                                                0.0     \n",
       "2017-01-01 01:23:00                                                0.0     \n",
       "2017-01-01 01:33:00                                                0.0     \n",
       "2017-01-01 01:42:00                                                0.0     \n",
       "\n",
       "                    qtd_flights_is_top_10_airlines_delay_and_delay_15_18h  \\\n",
       "Fecha-I                                                                     \n",
       "2017-01-01 00:15:00                                                NaN      \n",
       "2017-01-01 01:15:00                                                0.0      \n",
       "2017-01-01 01:23:00                                                0.0      \n",
       "2017-01-01 01:33:00                                                0.0      \n",
       "2017-01-01 01:42:00                                                0.0      \n",
       "\n",
       "                    qtd_flights_is_top_5_airlines_delay_24h  \\\n",
       "Fecha-I                                                       \n",
       "2017-01-01 00:15:00                                     NaN   \n",
       "2017-01-01 01:15:00                                     0.0   \n",
       "2017-01-01 01:23:00                                     0.0   \n",
       "2017-01-01 01:33:00                                     0.0   \n",
       "2017-01-01 01:42:00                                     0.0   \n",
       "\n",
       "                     qtd_flights_is_top_10_airlines_delay_24h  \\\n",
       "Fecha-I                                                         \n",
       "2017-01-01 00:15:00                                       NaN   \n",
       "2017-01-01 01:15:00                                       0.0   \n",
       "2017-01-01 01:23:00                                       1.0   \n",
       "2017-01-01 01:33:00                                       1.0   \n",
       "2017-01-01 01:42:00                                       2.0   \n",
       "\n",
       "                     qtd_flights_is_top_5_airlines_delay_and_delay_15_24h  \\\n",
       "Fecha-I                                                                     \n",
       "2017-01-01 00:15:00                                                NaN      \n",
       "2017-01-01 01:15:00                                                0.0      \n",
       "2017-01-01 01:23:00                                                0.0      \n",
       "2017-01-01 01:33:00                                                0.0      \n",
       "2017-01-01 01:42:00                                                0.0      \n",
       "\n",
       "                     qtd_flights_is_top_10_airlines_delay_and_delay_15_24h  \n",
       "Fecha-I                                                                     \n",
       "2017-01-01 00:15:00                                                NaN      \n",
       "2017-01-01 01:15:00                                                0.0      \n",
       "2017-01-01 01:23:00                                                0.0      \n",
       "2017-01-01 01:33:00                                                0.0      \n",
       "2017-01-01 01:42:00                                                0.0      \n",
       "\n",
       "[5 rows x 76 columns]"
      ]
     },
     "execution_count": 42,
     "metadata": {},
     "output_type": "execute_result"
    }
   ],
   "source": [
    "df.head()"
   ]
  },
  {
   "cell_type": "markdown",
   "id": "dcb8a040",
   "metadata": {
    "papermill": {
     "duration": 0.040008,
     "end_time": "2022-12-18T01:54:35.614546",
     "exception": false,
     "start_time": "2022-12-18T01:54:35.574538",
     "status": "completed"
    },
    "tags": []
   },
   "source": []
  },
  {
   "cell_type": "code",
   "execution_count": null,
   "id": "44269971",
   "metadata": {
    "papermill": {
     "duration": 0.038472,
     "end_time": "2022-12-18T01:54:35.692115",
     "exception": false,
     "start_time": "2022-12-18T01:54:35.653643",
     "status": "completed"
    },
    "tags": []
   },
   "outputs": [],
   "source": []
  },
  {
   "cell_type": "code",
   "execution_count": null,
   "id": "58401610",
   "metadata": {
    "papermill": {
     "duration": 0.037884,
     "end_time": "2022-12-18T01:54:35.768601",
     "exception": false,
     "start_time": "2022-12-18T01:54:35.730717",
     "status": "completed"
    },
    "tags": []
   },
   "outputs": [],
   "source": []
  },
  {
   "cell_type": "code",
   "execution_count": null,
   "id": "9fd332ac",
   "metadata": {
    "papermill": {
     "duration": 0.042277,
     "end_time": "2022-12-18T01:54:35.850163",
     "exception": false,
     "start_time": "2022-12-18T01:54:35.807886",
     "status": "completed"
    },
    "tags": []
   },
   "outputs": [],
   "source": []
  },
  {
   "cell_type": "code",
   "execution_count": null,
   "id": "19f69602",
   "metadata": {
    "papermill": {
     "duration": 0.040213,
     "end_time": "2022-12-18T01:54:35.931335",
     "exception": false,
     "start_time": "2022-12-18T01:54:35.891122",
     "status": "completed"
    },
    "tags": []
   },
   "outputs": [],
   "source": []
  }
 ],
 "metadata": {
  "kernelspec": {
   "display_name": "Python 3",
   "language": "python",
   "name": "python3"
  },
  "language_info": {
   "codemirror_mode": {
    "name": "ipython",
    "version": 3
   },
   "file_extension": ".py",
   "mimetype": "text/x-python",
   "name": "python",
   "nbconvert_exporter": "python",
   "pygments_lexer": "ipython3",
   "version": "3.7.12"
  },
  "papermill": {
   "default_parameters": {},
   "duration": 176.469876,
   "end_time": "2022-12-18T01:54:37.198036",
   "environment_variables": {},
   "exception": null,
   "input_path": "__notebook__.ipynb",
   "output_path": "__notebook__.ipynb",
   "parameters": {},
   "start_time": "2022-12-18T01:51:40.728160",
   "version": "2.3.4"
  }
 },
 "nbformat": 4,
 "nbformat_minor": 5
}
